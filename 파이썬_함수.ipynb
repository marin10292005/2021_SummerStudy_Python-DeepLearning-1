{
  "nbformat": 4,
  "nbformat_minor": 0,
  "metadata": {
    "colab": {
      "name": "파이썬-함수",
      "provenance": [],
      "authorship_tag": "ABX9TyOb+M8dp+qRoPe83Uj4bVRN",
      "include_colab_link": true
    },
    "kernelspec": {
      "name": "python3",
      "display_name": "Python 3"
    },
    "language_info": {
      "name": "python"
    }
  },
  "cells": [
    {
      "cell_type": "markdown",
      "metadata": {
        "id": "view-in-github",
        "colab_type": "text"
      },
      "source": [
        "<a href=\"https://colab.research.google.com/github/marin10292005/2021_SummerStudy_Python-DeepLearning-1/blob/main/%ED%8C%8C%EC%9D%B4%EC%8D%AC_%ED%95%A8%EC%88%98.ipynb\" target=\"_parent\"><img src=\"https://colab.research.google.com/assets/colab-badge.svg\" alt=\"Open In Colab\"/></a>"
      ]
    },
    {
      "cell_type": "markdown",
      "metadata": {
        "id": "ehntYS57NEGn"
      },
      "source": [
        "###**함수(function)**\n",
        "- 자주 사용되는 코드 및 **반복되는 코드를 모아 하나의 기능**으로 만들고 이름을 붙인 것입니다.\n",
        "\n",
        "- 즉, 함수의 가장 중요한 기능은 바로 **코드의 재사용성**입니다."
      ]
    },
    {
      "cell_type": "markdown",
      "metadata": {
        "id": "nLFw_S7oNZzV"
      },
      "source": [
        "###**함수의 기본 구조**\n",
        "\n",
        "- def 키워드로 시작합니다.\n",
        "- 함수명을 기입합니다.\n",
        "- () 안에 매개변수를 지정할 수 있고,생략도 가능합니다.\n",
        "- 끝에는 :으로 끝납니다.\n",
        "- 함수의 범위 안에서는 **들여쓰기**를 합니다. 들여쓰기가 끝난 지점이 함수의 범위가 끝나는 지점입니다,\n",
        "\n",
        "**(예시)**"
      ]
    },
    {
      "cell_type": "code",
      "metadata": {
        "id": "yVcHOoQhLtaP"
      },
      "source": [
        "def add_function(a, b):\n",
        "    result = a + b\n",
        "    return result"
      ],
      "execution_count": 1,
      "outputs": []
    },
    {
      "cell_type": "markdown",
      "metadata": {
        "id": "guBmsQjzOWll"
      },
      "source": [
        "\n",
        "###**함수의 다양한 형태**\n",
        "**일반 형태**\n",
        "- 입력 매개변수: O\n",
        "- return: O"
      ]
    },
    {
      "cell_type": "code",
      "metadata": {
        "id": "HvcPk3cvOLW-"
      },
      "source": [
        "def sample_function(a, b):\n",
        "    result = a + b\n",
        "    return result"
      ],
      "execution_count": 2,
      "outputs": []
    },
    {
      "cell_type": "markdown",
      "metadata": {
        "id": "5djIqkfGOgi1"
      },
      "source": [
        "**입력 매개변수가 없는 형태**"
      ]
    },
    {
      "cell_type": "code",
      "metadata": {
        "id": "198185RVOeut"
      },
      "source": [
        "def sample_function():\n",
        "    a = 1\n",
        "    b = 2\n",
        "    result = a + b\n",
        "    return result"
      ],
      "execution_count": 3,
      "outputs": []
    },
    {
      "cell_type": "markdown",
      "metadata": {
        "id": "UZBV-Mv1OqW1"
      },
      "source": [
        "**return 이 없는 형태**"
      ]
    },
    {
      "cell_type": "code",
      "metadata": {
        "id": "MDmVlBA-OmBt"
      },
      "source": [
        "def sample_function(a, b):\n",
        "    result = a + b\n",
        "    print(f'result: {result}')"
      ],
      "execution_count": 4,
      "outputs": []
    },
    {
      "cell_type": "markdown",
      "metadata": {
        "id": "axcbPqfGOxqN"
      },
      "source": [
        "###**입력 매개변수, return 모두 없는 형태**"
      ]
    },
    {
      "cell_type": "code",
      "metadata": {
        "id": "0qEo64tIOvkd"
      },
      "source": [
        "def sample_function():\n",
        "    print('Hello, World!')"
      ],
      "execution_count": 5,
      "outputs": []
    },
    {
      "cell_type": "markdown",
      "metadata": {
        "id": "QXWf1s0YO6IN"
      },
      "source": [
        "### **함수의 이름 및 호출**\n",
        "- 함수의 이름은 알파벳이나 _로 시작해야 합니다.\n",
        "- 함수의 지정된 이름과 () 로 호출 할 수 있습니다."
      ]
    },
    {
      "cell_type": "code",
      "metadata": {
        "id": "TOH0nj5KQIWW"
      },
      "source": [
        "def sample_function():\n",
        "    print('함수가 호출 되었습니다!')"
      ],
      "execution_count": 6,
      "outputs": []
    },
    {
      "cell_type": "markdown",
      "metadata": {
        "id": "n1Dt5VNAQKdm"
      },
      "source": [
        "함수의 이름만 출력시"
      ]
    },
    {
      "cell_type": "code",
      "metadata": {
        "colab": {
          "base_uri": "https://localhost:8080/"
        },
        "id": "oPPjA09-QWa1",
        "outputId": "eaa89286-d8d9-4338-de72-7e0426b81766"
      },
      "source": [
        "sample_function"
      ],
      "execution_count": 7,
      "outputs": [
        {
          "output_type": "execute_result",
          "data": {
            "text/plain": [
              "<function __main__.sample_function>"
            ]
          },
          "metadata": {
            "tags": []
          },
          "execution_count": 7
        }
      ]
    },
    {
      "cell_type": "markdown",
      "metadata": {
        "id": "WoPJu_e7QX0m"
      },
      "source": [
        "호출(call): 함수의 이름과 함께 ()를 같이 실행"
      ]
    },
    {
      "cell_type": "code",
      "metadata": {
        "colab": {
          "base_uri": "https://localhost:8080/"
        },
        "id": "jozVwetgQaqV",
        "outputId": "566c0944-dbdc-48a0-b6f4-285f9c8cdfa2"
      },
      "source": [
        "sample_function()"
      ],
      "execution_count": 8,
      "outputs": [
        {
          "output_type": "stream",
          "text": [
            "함수가 호출 되었습니다!\n"
          ],
          "name": "stdout"
        }
      ]
    },
    {
      "cell_type": "markdown",
      "metadata": {
        "id": "Z4ogtYoRQdr9"
      },
      "source": [
        "\n",
        "함수의 이름을 별도의 변수에 대입한 후 변수에 ()를 같이 실행한 경우"
      ]
    },
    {
      "cell_type": "code",
      "metadata": {
        "colab": {
          "base_uri": "https://localhost:8080/"
        },
        "id": "OU9NOZpdQf19",
        "outputId": "03373889-718e-4f44-ff62-bd85e81448eb"
      },
      "source": [
        "a = sample_function\n",
        "a()"
      ],
      "execution_count": 9,
      "outputs": [
        {
          "output_type": "stream",
          "text": [
            "함수가 호출 되었습니다!\n"
          ],
          "name": "stdout"
        }
      ]
    },
    {
      "cell_type": "code",
      "metadata": {
        "id": "KmOc1ctgQhjd"
      },
      "source": [
        "# return 이 존재하는 경우\n",
        "def sample_function():\n",
        "    print('함수가 호출 되었습니다!')\n",
        "    return 123"
      ],
      "execution_count": 10,
      "outputs": []
    },
    {
      "cell_type": "markdown",
      "metadata": {
        "id": "-PC1EymaQjE1"
      },
      "source": [
        "**return 값이 존재**하는 경우 함수는 결과 값을 **반환** 하며 반환된 결과를 변수에 대입할 수 있습니다."
      ]
    },
    {
      "cell_type": "code",
      "metadata": {
        "colab": {
          "base_uri": "https://localhost:8080/"
        },
        "id": "avsOT70GQo11",
        "outputId": "724ecdb6-46c4-460d-9fa4-98304a8eb36a"
      },
      "source": [
        "result = sample_function()"
      ],
      "execution_count": 11,
      "outputs": [
        {
          "output_type": "stream",
          "text": [
            "함수가 호출 되었습니다!\n"
          ],
          "name": "stdout"
        }
      ]
    },
    {
      "cell_type": "code",
      "metadata": {
        "colab": {
          "base_uri": "https://localhost:8080/"
        },
        "id": "K6sUNT2EQqMF",
        "outputId": "6b04459c-0afc-47c4-95b1-ef249ec81084"
      },
      "source": [
        "result"
      ],
      "execution_count": 12,
      "outputs": [
        {
          "output_type": "execute_result",
          "data": {
            "text/plain": [
              "123"
            ]
          },
          "metadata": {
            "tags": []
          },
          "execution_count": 12
        }
      ]
    },
    {
      "cell_type": "markdown",
      "metadata": {
        "id": "2zz6HG1YQrs1"
      },
      "source": [
        "\n",
        "하지만, 함수가 아무런 결과 값을 반환하지 않는다면 함수로부터 반환된 결과는 None입니다."
      ]
    },
    {
      "cell_type": "code",
      "metadata": {
        "id": "lZ3D8xCxQtyF"
      },
      "source": [
        "# return 이 없는 경우\n",
        "def sample_function():\n",
        "    print('함수가 호출 되었습니다!')"
      ],
      "execution_count": 13,
      "outputs": []
    },
    {
      "cell_type": "code",
      "metadata": {
        "colab": {
          "base_uri": "https://localhost:8080/"
        },
        "id": "FMfqhGQPQwK1",
        "outputId": "a6a0028e-f1ca-4a3d-e4d7-187c9d6736a6"
      },
      "source": [
        "result = sample_function()"
      ],
      "execution_count": 14,
      "outputs": [
        {
          "output_type": "stream",
          "text": [
            "함수가 호출 되었습니다!\n"
          ],
          "name": "stdout"
        }
      ]
    },
    {
      "cell_type": "code",
      "metadata": {
        "colab": {
          "base_uri": "https://localhost:8080/"
        },
        "id": "Jwew1L8GQye9",
        "outputId": "f99fa609-0265-4d3e-e8ab-dbbf5df7bbf7"
      },
      "source": [
        "print(result)"
      ],
      "execution_count": 15,
      "outputs": [
        {
          "output_type": "stream",
          "text": [
            "None\n"
          ],
          "name": "stdout"
        }
      ]
    },
    {
      "cell_type": "markdown",
      "metadata": {
        "id": "dkhrsf-aQ1CF"
      },
      "source": [
        "###**docstring**\n",
        "- 함수에 대한 설명을 기록"
      ]
    },
    {
      "cell_type": "code",
      "metadata": {
        "id": "8AVGshHsQ5WV"
      },
      "source": [
        "def sample_function():\n",
        "    \"\"\"\n",
        "    함수에 대한 설명을 기록합니다.\n",
        "    sample_function은 함수를 설명하기 위한 예제 함수 입니다.\n",
        "    \n",
        "    (예시)\n",
        "    호출의 예.\n",
        "    sample_function()\n",
        "    \"\"\"\n",
        "    print('함수가 호출 되었습니다.')"
      ],
      "execution_count": 17,
      "outputs": []
    },
    {
      "cell_type": "code",
      "metadata": {
        "colab": {
          "base_uri": "https://localhost:8080/"
        },
        "id": "8M0W-ndMRGRz",
        "outputId": "b044425b-0585-461a-c894-ecc89805020b"
      },
      "source": [
        "sample_function()"
      ],
      "execution_count": 18,
      "outputs": [
        {
          "output_type": "stream",
          "text": [
            "함수가 호출 되었습니다.\n"
          ],
          "name": "stdout"
        }
      ]
    },
    {
      "cell_type": "markdown",
      "metadata": {
        "id": "BTiA-r7TRKxN"
      },
      "source": [
        "함수명.__doc__로 docstring을 출력할 수 있습니다."
      ]
    },
    {
      "cell_type": "code",
      "metadata": {
        "colab": {
          "base_uri": "https://localhost:8080/"
        },
        "id": "R-EK4briRISM",
        "outputId": "c67c858d-6a70-4a91-fa65-b3257f52087b"
      },
      "source": [
        "print(sample_function.__doc__)"
      ],
      "execution_count": 19,
      "outputs": [
        {
          "output_type": "stream",
          "text": [
            "\n",
            "    함수에 대한 설명을 기록합니다.\n",
            "    sample_function은 함수를 설명하기 위한 예제 함수 입니다.\n",
            "    \n",
            "    (예시)\n",
            "    호출의 예.\n",
            "    sample_function()\n",
            "    \n"
          ],
          "name": "stdout"
        }
      ]
    },
    {
      "cell_type": "markdown",
      "metadata": {
        "id": "q57_T1r6ROzl"
      },
      "source": [
        "###**함수의 인수(매개변수)**\n",
        "**[참고]**\n",
        "\n",
        "- **인수(argument)**: 값, 변수, 참조 등 전달되는 값\n",
        "- **매개변수(parameter)**: 함수 등에서 사용되는 전달된 값을 받는 변수\n",
        "\n",
        "- 10, 20 이라는 값은 인수(argument)\n",
        "- a, b는 매개변수(parameter)"
      ]
    },
    {
      "cell_type": "code",
      "metadata": {
        "colab": {
          "base_uri": "https://localhost:8080/"
        },
        "id": "kINWe2oKRmXM",
        "outputId": "b0851846-5a6f-41f1-ffd2-1f4059c7aefc"
      },
      "source": [
        "def some_function(a, b):\n",
        "    result = a + b\n",
        "    return result\n",
        "\n",
        "some_function(10, 20)"
      ],
      "execution_count": 21,
      "outputs": [
        {
          "output_type": "execute_result",
          "data": {
            "text/plain": [
              "30"
            ]
          },
          "metadata": {
            "tags": []
          },
          "execution_count": 21
        }
      ]
    },
    {
      "cell_type": "markdown",
      "metadata": {
        "id": "g4riigN1RwiV"
      },
      "source": [
        "###**위치 인수(positional arguments)**\n",
        "- 가장 보편적인 인수입니다.\n",
        "- 변수명을 인수로 지정합니다.\n",
        "- 위치가 중요합니다.\n",
        "\n",
        "a, b, c를 위치인수로 지정한 경우"
      ]
    },
    {
      "cell_type": "code",
      "metadata": {
        "id": "11V2mmJRR4tV"
      },
      "source": [
        "def add_function(a, b, c):\n",
        "    result = a + b + c\n",
        "    print(f'a: {a}, b: {b}, c: {c}')\n",
        "    print(f'sum: {result}')\n",
        "    return result"
      ],
      "execution_count": 23,
      "outputs": []
    },
    {
      "cell_type": "code",
      "metadata": {
        "colab": {
          "base_uri": "https://localhost:8080/"
        },
        "id": "T1uYLJvXR7o1",
        "outputId": "5f28f397-5758-46f8-df13-e17c45ba8770"
      },
      "source": [
        "add_function(1, 3, 5)"
      ],
      "execution_count": 24,
      "outputs": [
        {
          "output_type": "stream",
          "text": [
            "a: 1, b: 3, c: 5\n",
            "sum: 9\n"
          ],
          "name": "stdout"
        },
        {
          "output_type": "execute_result",
          "data": {
            "text/plain": [
              "9"
            ]
          },
          "metadata": {
            "tags": []
          },
          "execution_count": 24
        }
      ]
    },
    {
      "cell_type": "markdown",
      "metadata": {
        "id": "7XCex7nNR9DF"
      },
      "source": [
        "###**키워드 인수(keyword arguments)**\n",
        "- 위치 인수의 위치를 정확히 기억 하지 못하고 혼란을 야기할 수 있기 때문에 인수명에 값을 직접 지정합니다."
      ]
    },
    {
      "cell_type": "code",
      "metadata": {
        "id": "iaJXMCXySTt9"
      },
      "source": [
        "def add_function(a, b, c):\n",
        "    result = a + b + c\n",
        "    print(f'a: {a}, b: {b}, c: {c}')\n",
        "    print(f'sum: {result}')\n",
        "    return result"
      ],
      "execution_count": 26,
      "outputs": []
    },
    {
      "cell_type": "markdown",
      "metadata": {
        "id": "3tBzkhN1SWUs"
      },
      "source": [
        "아래의 예제는 키워드로 매개변수에 대한 값을 지정하는 예시입니다."
      ]
    },
    {
      "cell_type": "code",
      "metadata": {
        "colab": {
          "base_uri": "https://localhost:8080/"
        },
        "id": "HzkxpjaeSZoU",
        "outputId": "9afa8634-47e4-457f-cad5-3fd5d048f9be"
      },
      "source": [
        "add_function(b=3, c=1, a=5)"
      ],
      "execution_count": 27,
      "outputs": [
        {
          "output_type": "stream",
          "text": [
            "a: 5, b: 3, c: 1\n",
            "sum: 9\n"
          ],
          "name": "stdout"
        },
        {
          "output_type": "execute_result",
          "data": {
            "text/plain": [
              "9"
            ]
          },
          "metadata": {
            "tags": []
          },
          "execution_count": 27
        }
      ]
    },
    {
      "cell_type": "markdown",
      "metadata": {
        "id": "CUnCT52dSaJV"
      },
      "source": [
        "###**기본 매개변수(default parameter)**\n",
        "- 매개변수에 기본 값을 지정할 수 있습니다.\n",
        "- 기본 값을 지정시 인수에 값을 생략 가능합니다.\n",
        "- 단, 기본 값이 지정된 인수는 위치 인수보다 다음에 위치해야 합니다."
      ]
    },
    {
      "cell_type": "code",
      "metadata": {
        "id": "VwcL2OCQTa-0"
      },
      "source": [
        "def add_function(a, b=0, c=0):\n",
        "    result = a + b + c\n",
        "    print(f'a: {a}, b: {b}, c: {c}')\n",
        "    print(f'sum: {result}')\n",
        "    return result"
      ],
      "execution_count": 38,
      "outputs": []
    },
    {
      "cell_type": "code",
      "metadata": {
        "colab": {
          "base_uri": "https://localhost:8080/"
        },
        "id": "6KiBeqtLTd_n",
        "outputId": "0e8a9503-0b9b-4ccc-d9d3-1696fd0977c2"
      },
      "source": [
        "add_function(1)"
      ],
      "execution_count": 39,
      "outputs": [
        {
          "output_type": "stream",
          "text": [
            "a: 1, b: 0, c: 0\n",
            "sum: 1\n"
          ],
          "name": "stdout"
        },
        {
          "output_type": "execute_result",
          "data": {
            "text/plain": [
              "1"
            ]
          },
          "metadata": {
            "tags": []
          },
          "execution_count": 39
        }
      ]
    },
    {
      "cell_type": "code",
      "metadata": {
        "colab": {
          "base_uri": "https://localhost:8080/"
        },
        "id": "5nYZLks0Tkon",
        "outputId": "8bdb869c-4d04-4c90-ce54-4017675356c2"
      },
      "source": [
        "add_function(1, 3)"
      ],
      "execution_count": 40,
      "outputs": [
        {
          "output_type": "stream",
          "text": [
            "a: 1, b: 3, c: 0\n",
            "sum: 4\n"
          ],
          "name": "stdout"
        },
        {
          "output_type": "execute_result",
          "data": {
            "text/plain": [
              "4"
            ]
          },
          "metadata": {
            "tags": []
          },
          "execution_count": 40
        }
      ]
    },
    {
      "cell_type": "code",
      "metadata": {
        "colab": {
          "base_uri": "https://localhost:8080/"
        },
        "id": "syYI2xlcTm2P",
        "outputId": "1e54a4b3-6acb-482b-fde6-00b7157ba94a"
      },
      "source": [
        "add_function(1, 3, 5)"
      ],
      "execution_count": 41,
      "outputs": [
        {
          "output_type": "stream",
          "text": [
            "a: 1, b: 3, c: 5\n",
            "sum: 9\n"
          ],
          "name": "stdout"
        },
        {
          "output_type": "execute_result",
          "data": {
            "text/plain": [
              "9"
            ]
          },
          "metadata": {
            "tags": []
          },
          "execution_count": 41
        }
      ]
    },
    {
      "cell_type": "code",
      "metadata": {
        "colab": {
          "base_uri": "https://localhost:8080/"
        },
        "id": "58G6gDeHTp9H",
        "outputId": "102c3bff-e1fa-4ced-d24a-65f1fe83cf55"
      },
      "source": [
        "add_function(c=5, b=3, a=1)"
      ],
      "execution_count": 42,
      "outputs": [
        {
          "output_type": "stream",
          "text": [
            "a: 1, b: 3, c: 5\n",
            "sum: 9\n"
          ],
          "name": "stdout"
        },
        {
          "output_type": "execute_result",
          "data": {
            "text/plain": [
              "9"
            ]
          },
          "metadata": {
            "tags": []
          },
          "execution_count": 42
        }
      ]
    },
    {
      "cell_type": "markdown",
      "metadata": {
        "id": "zjvJxfM1TqsH"
      },
      "source": [
        "기본 매개변수가 **위치 인수보다 앞 쪽에 위치한 경우 Error**가 발생합니다."
      ]
    },
    {
      "cell_type": "code",
      "metadata": {
        "colab": {
          "base_uri": "https://localhost:8080/",
          "height": 136
        },
        "id": "4i_qHo3QT06z",
        "outputId": "248fb9bf-b65e-4cc0-cd27-01fa15f7aa83"
      },
      "source": [
        "def add_function(a=0, b, c):\n",
        "    result = a + b + c\n",
        "    print(f'a: {a}, b: {b}, c: {c}')\n",
        "    print(f'sum: {result}')\n",
        "    return result"
      ],
      "execution_count": 43,
      "outputs": [
        {
          "output_type": "error",
          "ename": "SyntaxError",
          "evalue": "ignored",
          "traceback": [
            "\u001b[0;36m  File \u001b[0;32m\"<ipython-input-43-8487cf0d9f78>\"\u001b[0;36m, line \u001b[0;32m1\u001b[0m\n\u001b[0;31m    def add_function(a=0, b, c):\u001b[0m\n\u001b[0m                    ^\u001b[0m\n\u001b[0;31mSyntaxError\u001b[0m\u001b[0;31m:\u001b[0m non-default argument follows default argument\n"
          ]
        }
      ]
    },
    {
      "cell_type": "markdown",
      "metadata": {
        "id": "crat4M9tT2zE"
      },
      "source": [
        "###**tuple 인수**\n",
        "- 여러 개의 인수를 전달 받을 수 있습니다.\n",
        "- 여러 개의 인수를 전달 받은 *args에는 튜플(tuple) 형식으로 데이터가 저장됩니다.\n",
        "- *args로 받은 인수는 반복문으로 처리하는 것이 일반 적입니다.\n",
        "- 대체적으로 *args 변수가 많이 사용됩니다."
      ]
    },
    {
      "cell_type": "code",
      "metadata": {
        "id": "0CHJkjGrUa-D"
      },
      "source": [
        "def add_function(*args):\n",
        "    result = 0\n",
        "    print(f'args의 타입: {type(args)}')\n",
        "    for arg in args:\n",
        "        print(arg)\n",
        "        result += arg\n",
        "    print('==='* 5)\n",
        "    print(f'sum: {result}')"
      ],
      "execution_count": 45,
      "outputs": []
    },
    {
      "cell_type": "markdown",
      "metadata": {
        "id": "nIJHFMa6UdVk"
      },
      "source": [
        "\n",
        "아무런 값을 전달하지 않은 경우(생략 가능)"
      ]
    },
    {
      "cell_type": "code",
      "metadata": {
        "colab": {
          "base_uri": "https://localhost:8080/"
        },
        "id": "ZZCgwWL2Ufyd",
        "outputId": "2b2f6ebc-d778-4ab7-cc10-dd5ab238fde0"
      },
      "source": [
        "add_function()"
      ],
      "execution_count": 46,
      "outputs": [
        {
          "output_type": "stream",
          "text": [
            "args의 타입: <class 'tuple'>\n",
            "===============\n",
            "sum: 0\n"
          ],
          "name": "stdout"
        }
      ]
    },
    {
      "cell_type": "markdown",
      "metadata": {
        "id": "-uzYDfELUhLl"
      },
      "source": [
        "1개의 값을 전달한 경우"
      ]
    },
    {
      "cell_type": "code",
      "metadata": {
        "colab": {
          "base_uri": "https://localhost:8080/"
        },
        "id": "8NSmUT_GUkY8",
        "outputId": "14034a7b-f299-490e-9632-f90438d72274"
      },
      "source": [
        "add_function(1)"
      ],
      "execution_count": 47,
      "outputs": [
        {
          "output_type": "stream",
          "text": [
            "args의 타입: <class 'tuple'>\n",
            "1\n",
            "===============\n",
            "sum: 1\n"
          ],
          "name": "stdout"
        }
      ]
    },
    {
      "cell_type": "markdown",
      "metadata": {
        "id": "1PjbuLHIUmqE"
      },
      "source": [
        "복수의 값을 전달한 경우"
      ]
    },
    {
      "cell_type": "code",
      "metadata": {
        "colab": {
          "base_uri": "https://localhost:8080/"
        },
        "id": "d-mKL1NAUpeM",
        "outputId": "8c5788ed-9aa3-4b8f-a96f-6378aca31fc4"
      },
      "source": [
        "add_function(1, 2, 3, 4, 5)"
      ],
      "execution_count": 48,
      "outputs": [
        {
          "output_type": "stream",
          "text": [
            "args의 타입: <class 'tuple'>\n",
            "1\n",
            "2\n",
            "3\n",
            "4\n",
            "5\n",
            "===============\n",
            "sum: 15\n"
          ],
          "name": "stdout"
        }
      ]
    },
    {
      "cell_type": "markdown",
      "metadata": {
        "id": "QmmACNTMUrVM"
      },
      "source": [
        "###**위치 매개변수와 *tuple 매개변수의 혼용**\n",
        "- *tuple 매개변수는 위치 매개변수의 뒤에 위치해야 합니다."
      ]
    },
    {
      "cell_type": "code",
      "metadata": {
        "id": "Jj-YDEVrUvc0"
      },
      "source": [
        "def add_function(a, *args):\n",
        "    print(f'a: {a}')\n",
        "    print('==='* 5)\n",
        "    result = 0\n",
        "    for arg in args:\n",
        "        print(arg)\n",
        "        result += arg\n",
        "    print('==='* 5)\n",
        "    print(f'sum: {result}')"
      ],
      "execution_count": 50,
      "outputs": []
    },
    {
      "cell_type": "markdown",
      "metadata": {
        "id": "KxNZI_uQU0UG"
      },
      "source": [
        "아무런 값을 지정하지 않은 경우\n",
        "\n",
        "- 위치 매개변수 미지정으로 인한 Error 발생"
      ]
    },
    {
      "cell_type": "code",
      "metadata": {
        "colab": {
          "base_uri": "https://localhost:8080/",
          "height": 172
        },
        "id": "6Av6AmKKUy10",
        "outputId": "9aea4fff-2b74-41e3-c025-73fbe0463ee2"
      },
      "source": [
        "add_function()"
      ],
      "execution_count": 51,
      "outputs": [
        {
          "output_type": "error",
          "ename": "TypeError",
          "evalue": "ignored",
          "traceback": [
            "\u001b[0;31m---------------------------------------------------------------------------\u001b[0m",
            "\u001b[0;31mTypeError\u001b[0m                                 Traceback (most recent call last)",
            "\u001b[0;32m<ipython-input-51-1553848aed78>\u001b[0m in \u001b[0;36m<module>\u001b[0;34m()\u001b[0m\n\u001b[0;32m----> 1\u001b[0;31m \u001b[0madd_function\u001b[0m\u001b[0;34m(\u001b[0m\u001b[0;34m)\u001b[0m\u001b[0;34m\u001b[0m\u001b[0;34m\u001b[0m\u001b[0m\n\u001b[0m",
            "\u001b[0;31mTypeError\u001b[0m: add_function() missing 1 required positional argument: 'a'"
          ]
        }
      ]
    },
    {
      "cell_type": "markdown",
      "metadata": {
        "id": "PFgz1qvyU3bk"
      },
      "source": [
        "\n",
        "단일 값을 지정한 경우"
      ]
    },
    {
      "cell_type": "code",
      "metadata": {
        "colab": {
          "base_uri": "https://localhost:8080/"
        },
        "id": "yVtelJTtVFct",
        "outputId": "85a12c88-e687-496e-e921-4d8fd7ad1226"
      },
      "source": [
        "add_function(1)"
      ],
      "execution_count": 52,
      "outputs": [
        {
          "output_type": "stream",
          "text": [
            "a: 1\n",
            "===============\n",
            "===============\n",
            "sum: 0\n"
          ],
          "name": "stdout"
        }
      ]
    },
    {
      "cell_type": "markdown",
      "metadata": {
        "id": "twhcOf3eVG0U"
      },
      "source": [
        "복수의 값을 지정한 경우"
      ]
    },
    {
      "cell_type": "code",
      "metadata": {
        "colab": {
          "base_uri": "https://localhost:8080/"
        },
        "id": "rg5QRVELVJCU",
        "outputId": "1f3eaa4f-67b5-407a-e1a8-5450c61a619a"
      },
      "source": [
        "add_function(1, 2, 3, 4, 5)"
      ],
      "execution_count": 54,
      "outputs": [
        {
          "output_type": "stream",
          "text": [
            "a: 1\n",
            "===============\n",
            "2\n",
            "3\n",
            "4\n",
            "5\n",
            "===============\n",
            "sum: 14\n"
          ],
          "name": "stdout"
        }
      ]
    },
    {
      "cell_type": "markdown",
      "metadata": {
        "id": "MBPvekrDVMK0"
      },
      "source": [
        "##** **dict 인수**\n",
        "- 여러 개의 인수를 전달 받을 수 있습니다.\n",
        "- 여러 개의 인수를 전달 받은 **kwargs에는 딕셔너리(dict) 형식으로 데이터가 저장됩니다.\n",
        "- **kwargs로 받은 인수 역시 반복문으로 처리하는 것이 일반 적입니다.\n",
        "- 대체적으로 **kwargs 변수가 많이 사용됩니다."
      ]
    },
    {
      "cell_type": "code",
      "metadata": {
        "id": "SGFtrYX1VSwc"
      },
      "source": [
        "def add_function(**kwargs):\n",
        "    total_age = 0\n",
        "    for name, age in kwargs.items():\n",
        "        print(f'이름: {name}, 나이: {age}')\n",
        "        total_age += age\n",
        "    print('==='* 5)\n",
        "    print(f'전체 나이의 합계: {total_age}')"
      ],
      "execution_count": 56,
      "outputs": []
    },
    {
      "cell_type": "markdown",
      "metadata": {
        "id": "ifSkrCPKVVr5"
      },
      "source": [
        "아무런 값을 지정하지 않은 경우"
      ]
    },
    {
      "cell_type": "code",
      "metadata": {
        "colab": {
          "base_uri": "https://localhost:8080/"
        },
        "id": "D47CArHkV94s",
        "outputId": "3ce1595d-4d99-4e4b-b2da-0c520e8656b4"
      },
      "source": [
        "add_function()"
      ],
      "execution_count": 57,
      "outputs": [
        {
          "output_type": "stream",
          "text": [
            "===============\n",
            "전체 나이의 합계: 0\n"
          ],
          "name": "stdout"
        }
      ]
    },
    {
      "cell_type": "markdown",
      "metadata": {
        "id": "5ahx2FjTV_ZM"
      },
      "source": [
        "단일 값을 지정한 경우"
      ]
    },
    {
      "cell_type": "code",
      "metadata": {
        "colab": {
          "base_uri": "https://localhost:8080/"
        },
        "id": "4NBM8KFEWC91",
        "outputId": "44ac0afa-8190-40cc-94bc-721a9434fc35"
      },
      "source": [
        "add_function(lee=5)"
      ],
      "execution_count": 58,
      "outputs": [
        {
          "output_type": "stream",
          "text": [
            "이름: lee, 나이: 5\n",
            "===============\n",
            "전체 나이의 합계: 5\n"
          ],
          "name": "stdout"
        }
      ]
    },
    {
      "cell_type": "code",
      "metadata": {
        "colab": {
          "base_uri": "https://localhost:8080/"
        },
        "id": "Z1HpYitrWDbN",
        "outputId": "ac0452f7-5023-42ba-f650-e6345a600b2a"
      },
      "source": [
        "add_function(john=10, peter=12, lee=5)"
      ],
      "execution_count": 59,
      "outputs": [
        {
          "output_type": "stream",
          "text": [
            "이름: john, 나이: 10\n",
            "이름: peter, 나이: 12\n",
            "이름: lee, 나이: 5\n",
            "===============\n",
            "전체 나이의 합계: 27\n"
          ],
          "name": "stdout"
        }
      ]
    },
    {
      "cell_type": "markdown",
      "metadata": {
        "id": "syuB0OabWFxM"
      },
      "source": [
        "딕셔너리(dictionary)를 인수로 지정하는 경우 **를 앞에 붙혀 줍니다."
      ]
    },
    {
      "cell_type": "code",
      "metadata": {
        "colab": {
          "base_uri": "https://localhost:8080/"
        },
        "id": "2HBySMKWWMBU",
        "outputId": "df6c73bf-0927-4829-c976-aca02efc4cf8"
      },
      "source": [
        "person = {'john': 10, 'peter': 12, 'lee': 5}\n",
        "person"
      ],
      "execution_count": 60,
      "outputs": [
        {
          "output_type": "execute_result",
          "data": {
            "text/plain": [
              "{'john': 10, 'lee': 5, 'peter': 12}"
            ]
          },
          "metadata": {
            "tags": []
          },
          "execution_count": 60
        }
      ]
    },
    {
      "cell_type": "code",
      "metadata": {
        "colab": {
          "base_uri": "https://localhost:8080/"
        },
        "id": "nb-LNOiWWMl0",
        "outputId": "cbf63f9e-fcd2-4f47-b933-18fd2fbd3ca7"
      },
      "source": [
        "add_function(**person)"
      ],
      "execution_count": 61,
      "outputs": [
        {
          "output_type": "stream",
          "text": [
            "이름: john, 나이: 10\n",
            "이름: peter, 나이: 12\n",
            "이름: lee, 나이: 5\n",
            "===============\n",
            "전체 나이의 합계: 27\n"
          ],
          "name": "stdout"
        }
      ]
    },
    {
      "cell_type": "markdown",
      "metadata": {
        "id": "P8EG6VISWOYc"
      },
      "source": [
        "###**lambda : 익명 함수(annonymous function)**\n",
        "- 이름 없이 정의된 함수 입니다.\n",
        "- 단일 문장(1줄)의 코드로 작성되어야 합니다.\n",
        "- 함수 내부에서는 return문이 포함하지 않지만 값을 반환합니다.\n",
        "단일 인수를 가지는 lambda 함수"
      ]
    },
    {
      "cell_type": "code",
      "metadata": {
        "id": "8wa6HEEgWUSk"
      },
      "source": [
        "a = lambda x: x * 2"
      ],
      "execution_count": 63,
      "outputs": []
    },
    {
      "cell_type": "code",
      "metadata": {
        "colab": {
          "base_uri": "https://localhost:8080/"
        },
        "id": "Tzu6gofBWWes",
        "outputId": "096ebdea-4862-4dd0-afaf-9963fb4cc65b"
      },
      "source": [
        "a(4)"
      ],
      "execution_count": 65,
      "outputs": [
        {
          "output_type": "execute_result",
          "data": {
            "text/plain": [
              "8"
            ]
          },
          "metadata": {
            "tags": []
          },
          "execution_count": 65
        }
      ]
    },
    {
      "cell_type": "markdown",
      "metadata": {
        "id": "O3oY20lyWXyU"
      },
      "source": [
        "**2개의 인수**를 가지는 lambda 함수"
      ]
    },
    {
      "cell_type": "code",
      "metadata": {
        "id": "y5lO_SVVWcd9"
      },
      "source": [
        "a = lambda x, y: x * y"
      ],
      "execution_count": 66,
      "outputs": []
    },
    {
      "cell_type": "code",
      "metadata": {
        "colab": {
          "base_uri": "https://localhost:8080/"
        },
        "id": "oZ9-jwRKWd_E",
        "outputId": "0861e4da-943f-4795-a52c-738742d5b842"
      },
      "source": [
        "a(4, 8)"
      ],
      "execution_count": 67,
      "outputs": [
        {
          "output_type": "execute_result",
          "data": {
            "text/plain": [
              "32"
            ]
          },
          "metadata": {
            "tags": []
          },
          "execution_count": 67
        }
      ]
    },
    {
      "cell_type": "markdown",
      "metadata": {
        "id": "uJRs4OvNWf1l"
      },
      "source": [
        "**기본 값이 지정된 인수**를 가지는 lambda 함수"
      ]
    },
    {
      "cell_type": "code",
      "metadata": {
        "id": "THfOCPizWjx0"
      },
      "source": [
        "a = lambda x, y=10: x * y"
      ],
      "execution_count": 69,
      "outputs": []
    },
    {
      "cell_type": "code",
      "metadata": {
        "colab": {
          "base_uri": "https://localhost:8080/"
        },
        "id": "Sl7em84KWlFs",
        "outputId": "1f481a84-a31a-42cc-9434-bf03bd660f3b"
      },
      "source": [
        "a(3)"
      ],
      "execution_count": 70,
      "outputs": [
        {
          "output_type": "execute_result",
          "data": {
            "text/plain": [
              "30"
            ]
          },
          "metadata": {
            "tags": []
          },
          "execution_count": 70
        }
      ]
    },
    {
      "cell_type": "markdown",
      "metadata": {
        "id": "4v3Cpsj9WpB1"
      },
      "source": [
        "**키워드 인수**를 지정하는 lambda 함수"
      ]
    },
    {
      "cell_type": "code",
      "metadata": {
        "colab": {
          "base_uri": "https://localhost:8080/"
        },
        "id": "-VY9bv7EWnW0",
        "outputId": "976a4740-c33c-407e-d637-a489b29e9ce5"
      },
      "source": [
        "a(y=5, x=3)"
      ],
      "execution_count": 71,
      "outputs": [
        {
          "output_type": "execute_result",
          "data": {
            "text/plain": [
              "15"
            ]
          },
          "metadata": {
            "tags": []
          },
          "execution_count": 71
        }
      ]
    },
    {
      "cell_type": "markdown",
      "metadata": {
        "id": "HGf1Oe_aWua3"
      },
      "source": [
        "lambda 함수 내부에서 **조건문** 사용"
      ]
    },
    {
      "cell_type": "code",
      "metadata": {
        "id": "Y5KRA0hiWtBc"
      },
      "source": [
        "a = lambda x, y: x * y if x > 0 else y"
      ],
      "execution_count": 72,
      "outputs": []
    },
    {
      "cell_type": "code",
      "metadata": {
        "colab": {
          "base_uri": "https://localhost:8080/"
        },
        "id": "TpkBnqRwWyAX",
        "outputId": "d42a3f78-6341-4352-feb2-e47c4aa99f7f"
      },
      "source": [
        "a(4, 8)"
      ],
      "execution_count": 73,
      "outputs": [
        {
          "output_type": "execute_result",
          "data": {
            "text/plain": [
              "32"
            ]
          },
          "metadata": {
            "tags": []
          },
          "execution_count": 73
        }
      ]
    },
    {
      "cell_type": "code",
      "metadata": {
        "colab": {
          "base_uri": "https://localhost:8080/"
        },
        "id": "T6FnS3k1W0D0",
        "outputId": "c9d611d5-97cb-4662-8f49-c801fe8cb05d"
      },
      "source": [
        "a(-1, 8)"
      ],
      "execution_count": 74,
      "outputs": [
        {
          "output_type": "execute_result",
          "data": {
            "text/plain": [
              "8"
            ]
          },
          "metadata": {
            "tags": []
          },
          "execution_count": 74
        }
      ]
    },
    {
      "cell_type": "markdown",
      "metadata": {
        "id": "EhJcAxPJW1YM"
      },
      "source": [
        "다음과 같이 elif 구문을 억지로 생성할 수 있습니다.\n",
        "\n",
        "하지만, 복잡한 조건문을 사용하기 위해서는 일반적인 함수 사용을 권장합니다. (코드의 가독성이 떨어집니다.)"
      ]
    },
    {
      "cell_type": "code",
      "metadata": {
        "id": "oN-uAsseW4bd"
      },
      "source": [
        "a = lambda x: x * 10 if x < 2 else (x**2 if x < 4 else x + 10)"
      ],
      "execution_count": 75,
      "outputs": []
    },
    {
      "cell_type": "code",
      "metadata": {
        "colab": {
          "base_uri": "https://localhost:8080/"
        },
        "id": "r0TgO-bFW58E",
        "outputId": "b9bd7a9f-6774-4bb5-bae0-2892ab965daa"
      },
      "source": [
        "a(1)"
      ],
      "execution_count": 76,
      "outputs": [
        {
          "output_type": "execute_result",
          "data": {
            "text/plain": [
              "10"
            ]
          },
          "metadata": {
            "tags": []
          },
          "execution_count": 76
        }
      ]
    },
    {
      "cell_type": "code",
      "metadata": {
        "colab": {
          "base_uri": "https://localhost:8080/"
        },
        "id": "UZEbAhFbW6-7",
        "outputId": "bf45059b-46e4-4b04-d107-5e0907cc6961"
      },
      "source": [
        "a(3)"
      ],
      "execution_count": 77,
      "outputs": [
        {
          "output_type": "execute_result",
          "data": {
            "text/plain": [
              "9"
            ]
          },
          "metadata": {
            "tags": []
          },
          "execution_count": 77
        }
      ]
    },
    {
      "cell_type": "code",
      "metadata": {
        "colab": {
          "base_uri": "https://localhost:8080/"
        },
        "id": "ReeqgnhBW8cD",
        "outputId": "6142f73e-f317-4c9f-e076-3a119b7e0311"
      },
      "source": [
        "a(4)"
      ],
      "execution_count": 78,
      "outputs": [
        {
          "output_type": "execute_result",
          "data": {
            "text/plain": [
              "14"
            ]
          },
          "metadata": {
            "tags": []
          },
          "execution_count": 78
        }
      ]
    }
  ]
}