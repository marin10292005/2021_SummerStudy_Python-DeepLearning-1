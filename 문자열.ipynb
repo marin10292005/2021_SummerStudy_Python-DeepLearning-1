{
  "nbformat": 4,
  "nbformat_minor": 0,
  "metadata": {
    "colab": {
      "name": "문자열.ipynb",
      "provenance": [],
      "authorship_tag": "ABX9TyP0IpIaQ91RzAPmsNU157CU",
      "include_colab_link": true
    },
    "kernelspec": {
      "name": "python3",
      "display_name": "Python 3"
    },
    "language_info": {
      "name": "python"
    }
  },
  "cells": [
    {
      "cell_type": "markdown",
      "metadata": {
        "id": "view-in-github",
        "colab_type": "text"
      },
      "source": [
        "<a href=\"https://colab.research.google.com/github/marin10292005/2021_SummerStudy_Python-DeepLearning-1/blob/main/%EB%AC%B8%EC%9E%90%EC%97%B4.ipynb\" target=\"_parent\"><img src=\"https://colab.research.google.com/assets/colab-badge.svg\" alt=\"Open In Colab\"/></a>"
      ]
    },
    {
      "cell_type": "markdown",
      "metadata": {
        "id": "ABnbvfE2yk1A"
      },
      "source": [
        "##**문자열**\n",
        "\n",
        "데이터 분석에 있어서 문자열(텍스트) 데이터의 중요성\n",
        "\n",
        "- 자연어처리 데이터는 대부분이 텍스트 데이터로 이루어져 있습니다.\n",
        "\n",
        "-우리가 흔히 저하는 Excle 혹이는 Table 데이터 안에도 수많은 텍스트 데이터가 존재합니다.\n",
        "\n",
        "- 게다가 우리나라는 영어와 더불어 **한글**까지 추가로 처리 할 수 있어야 합니다.\n",
        "\n",
        "**특성**"
      ]
    },
    {
      "cell_type": "markdown",
      "metadata": {
        "id": "MYYeEU1z0oNX"
      },
      "source": [
        "- 문자열 역시 리스트(list), 튜플(tuple)과 마찬가지로 sequence 형 자료구조를 가집니다.\n",
        "\n",
        "- 문자열은 불변(immutable) 객체입니다.\n",
        "\n",
        "###**문자열의 생성**\n",
        "\n",
        "파이썬의 문자열은 작은 따옴표('') 나 큰 따옴표 (\"\") 모두 구분없이 사용하여 문자열을 생성할 수 있습니다.\n",
        "\n",
        "작은 따옴표 ('') 사용"
      ]
    },
    {
      "cell_type": "code",
      "metadata": {
        "colab": {
          "base_uri": "https://localhost:8080/",
          "height": 35
        },
        "id": "xjNN0AD40L0S",
        "outputId": "db4fe3ff-ae59-4847-b67f-9a1fe0f1b703"
      },
      "source": [
        "'안녕하세요? 반갑습니다.'"
      ],
      "execution_count": 2,
      "outputs": [
        {
          "output_type": "execute_result",
          "data": {
            "application/vnd.google.colaboratory.intrinsic+json": {
              "type": "string"
            },
            "text/plain": [
              "'안녕하세요? 반갑습니다.'"
            ]
          },
          "metadata": {
            "tags": []
          },
          "execution_count": 2
        }
      ]
    },
    {
      "cell_type": "markdown",
      "metadata": {
        "id": "M6APYv0o0q2f"
      },
      "source": [
        "큰 따옴표 (\"사용)"
      ]
    },
    {
      "cell_type": "code",
      "metadata": {
        "colab": {
          "base_uri": "https://localhost:8080/",
          "height": 35
        },
        "id": "GLyuqhJH0OBd",
        "outputId": "7be654a9-46e7-4c78-e0f2-0bc1a7433f45"
      },
      "source": [
        "\"안녕하세요? 반갑습니다.\""
      ],
      "execution_count": 3,
      "outputs": [
        {
          "output_type": "execute_result",
          "data": {
            "application/vnd.google.colaboratory.intrinsic+json": {
              "type": "string"
            },
            "text/plain": [
              "'안녕하세요? 반갑습니다.'"
            ]
          },
          "metadata": {
            "tags": []
          },
          "execution_count": 3
        }
      ]
    },
    {
      "cell_type": "markdown",
      "metadata": {
        "id": "Fd7arm_M1MJv"
      },
      "source": [
        "작은 따옴표 3개 혹은 큰 따옴표 3개를 써서 **여러 줄의 문자열을 생성**할 수 있습니다."
      ]
    },
    {
      "cell_type": "code",
      "metadata": {
        "colab": {
          "base_uri": "https://localhost:8080/"
        },
        "id": "eGa9F6Ne0w7K",
        "outputId": "7c42e1c2-6be4-4d49-ed55-3f9a8d02ab68"
      },
      "source": [
        "sample = '''안녕하세요?\n",
        "반가워요\n",
        "내이름은\n",
        "파이썬 입니다.'''\n",
        "\n",
        "print(sample)"
      ],
      "execution_count": 4,
      "outputs": [
        {
          "output_type": "stream",
          "text": [
            "안녕하세요?\n",
            "반가워요\n",
            "내이름은\n",
            "파이썬 입니다.\n"
          ],
          "name": "stdout"
        }
      ]
    },
    {
      "cell_type": "code",
      "metadata": {
        "colab": {
          "base_uri": "https://localhost:8080/"
        },
        "id": "7_V8LrWR1aQ0",
        "outputId": "e875be4a-5c66-48ac-84df-c4a9adf158fd"
      },
      "source": [
        "sample = \"\"\"안녕하세요?\n",
        "반가워요\n",
        "내이름은\n",
        "파이썬 입니다.\n",
        "\n",
        "웰컴!\n",
        "\"\"\"\n",
        "\n",
        "print(sample)"
      ],
      "execution_count": 5,
      "outputs": [
        {
          "output_type": "stream",
          "text": [
            "안녕하세요?\n",
            "반가워요\n",
            "내이름은\n",
            "파이썬 입니다.\n",
            "\n",
            "웰컴!\n",
            "\n"
          ],
          "name": "stdout"
        }
      ]
    },
    {
      "cell_type": "markdown",
      "metadata": {
        "id": "b_T-vQhi1kJn"
      },
      "source": [
        "###**문자열 출력(포맷팅)**\n",
        "\n",
        "**print() : 출력**"
      ]
    },
    {
      "cell_type": "code",
      "metadata": {
        "colab": {
          "base_uri": "https://localhost:8080/"
        },
        "id": "VSVH4ohL1jH_",
        "outputId": "90866bd6-526a-4bf8-ee99-290a166755f3"
      },
      "source": [
        "print('헬로우 파이썬')"
      ],
      "execution_count": 7,
      "outputs": [
        {
          "output_type": "stream",
          "text": [
            "헬로우 파이썬\n"
          ],
          "name": "stdout"
        }
      ]
    },
    {
      "cell_type": "code",
      "metadata": {
        "colab": {
          "base_uri": "https://localhost:8080/"
        },
        "id": "m8_l8TTm1wN7",
        "outputId": "a0e1913a-cc9a-4fe8-d838-bd61d53b5f67"
      },
      "source": [
        "print('문자열 첫째', '그리고, 둘째')"
      ],
      "execution_count": 8,
      "outputs": [
        {
          "output_type": "stream",
          "text": [
            "문자열 첫째 그리고, 둘째\n"
          ],
          "name": "stdout"
        }
      ]
    },
    {
      "cell_type": "markdown",
      "metadata": {
        "id": "q59YxOtG15at"
      },
      "source": [
        "end 옵션으로 출력될 마지막 글자를 변경할 수 있습니다. (기본값:\\n)\n",
        "\n",
        "- [참고]: \\n 은 개행을 의미하는 특수 문자입니다."
      ]
    },
    {
      "cell_type": "code",
      "metadata": {
        "colab": {
          "base_uri": "https://localhost:8080/"
        },
        "id": "87_7Ke_v14EA",
        "outputId": "6c98329d-7019-4400-8035-9ade918dc181"
      },
      "source": [
        "print('여기까지!', end='end출력!')"
      ],
      "execution_count": 9,
      "outputs": [
        {
          "output_type": "stream",
          "text": [
            "여기까지!end출력!"
          ],
          "name": "stdout"
        }
      ]
    },
    {
      "cell_type": "markdown",
      "metadata": {
        "id": "w8FsaYH82TLW"
      },
      "source": [
        "sep 옵션으로 출력될 문자열 사이에 출력될 글자를 변경할 수 있습니다. (기본값: 공백)"
      ]
    },
    {
      "cell_type": "code",
      "metadata": {
        "colab": {
          "base_uri": "https://localhost:8080/"
        },
        "id": "X5_hIbUs2SpH",
        "outputId": "38074e37-1b75-42f5-b6b1-3a7d3f8faa96"
      },
      "source": [
        "print('문자1', '문자1', '문자3', sep='<구분> ')"
      ],
      "execution_count": 10,
      "outputs": [
        {
          "output_type": "stream",
          "text": [
            "문자1<구분> 문자1<구분> 문자3\n"
          ],
          "name": "stdout"
        }
      ]
    },
    {
      "cell_type": "markdown",
      "metadata": {
        "id": "FL-hUBOl2lMH"
      },
      "source": [
        "###**%를 사용한 출력**"
      ]
    },
    {
      "cell_type": "code",
      "metadata": {
        "colab": {
          "base_uri": "https://localhost:8080/",
          "height": 35
        },
        "id": "UBCTYxmD2jg0",
        "outputId": "5c79d23a-e129-41d6-dfe5-71dce4414f61"
      },
      "source": [
        "\"안녕하세요? %s\" % ('반갑습니다.')"
      ],
      "execution_count": 11,
      "outputs": [
        {
          "output_type": "execute_result",
          "data": {
            "application/vnd.google.colaboratory.intrinsic+json": {
              "type": "string"
            },
            "text/plain": [
              "'안녕하세요? 반갑습니다.'"
            ]
          },
          "metadata": {
            "tags": []
          },
          "execution_count": 11
        }
      ]
    },
    {
      "cell_type": "code",
      "metadata": {
        "colab": {
          "base_uri": "https://localhost:8080/",
          "height": 35
        },
        "id": "5bzXIJmT2tsu",
        "outputId": "aa36c872-8246-4eec-e92b-be75da36fbe8"
      },
      "source": [
        "'안녕하세요? %.3f' % (0.123456)"
      ],
      "execution_count": 12,
      "outputs": [
        {
          "output_type": "execute_result",
          "data": {
            "application/vnd.google.colaboratory.intrinsic+json": {
              "type": "string"
            },
            "text/plain": [
              "'안녕하세요? 0.123'"
            ]
          },
          "metadata": {
            "tags": []
          },
          "execution_count": 12
        }
      ]
    },
    {
      "cell_type": "code",
      "metadata": {
        "colab": {
          "base_uri": "https://localhost:8080/",
          "height": 35
        },
        "id": "BKzY48q020Dm",
        "outputId": "10293bd9-f35e-4771-c488-96504ce61cb8"
      },
      "source": [
        "'안녕하세요? %d' % (12345)"
      ],
      "execution_count": 13,
      "outputs": [
        {
          "output_type": "execute_result",
          "data": {
            "application/vnd.google.colaboratory.intrinsic+json": {
              "type": "string"
            },
            "text/plain": [
              "'안녕하세요? 12345'"
            ]
          },
          "metadata": {
            "tags": []
          },
          "execution_count": 13
        }
      ]
    },
    {
      "cell_type": "code",
      "metadata": {
        "colab": {
          "base_uri": "https://localhost:8080/",
          "height": 35
        },
        "id": "oOyuBzxp282T",
        "outputId": "ce5eea27-4afc-4865-b20b-39ce16cd7df9"
      },
      "source": [
        "'안녕하세요? %c' % ('a')"
      ],
      "execution_count": 14,
      "outputs": [
        {
          "output_type": "execute_result",
          "data": {
            "application/vnd.google.colaboratory.intrinsic+json": {
              "type": "string"
            },
            "text/plain": [
              "'안녕하세요? a'"
            ]
          },
          "metadata": {
            "tags": []
          },
          "execution_count": 14
        }
      ]
    },
    {
      "cell_type": "markdown",
      "metadata": {
        "id": "dDNlGHy33C5v"
      },
      "source": [
        "###**{} 와 format를 사용한 출력**"
      ]
    },
    {
      "cell_type": "code",
      "metadata": {
        "colab": {
          "base_uri": "https://localhost:8080/",
          "height": 35
        },
        "id": "seoK7Dcs3CNA",
        "outputId": "860a5911-d80d-42f8-b298-634b31b0487f"
      },
      "source": [
        "'웰컴투? {}' .format('파이썬.')"
      ],
      "execution_count": 15,
      "outputs": [
        {
          "output_type": "execute_result",
          "data": {
            "application/vnd.google.colaboratory.intrinsic+json": {
              "type": "string"
            },
            "text/plain": [
              "'웰컴투? 파이썬.'"
            ]
          },
          "metadata": {
            "tags": []
          },
          "execution_count": 15
        }
      ]
    },
    {
      "cell_type": "code",
      "metadata": {
        "colab": {
          "base_uri": "https://localhost:8080/",
          "height": 35
        },
        "id": "bnV2L8FT3POJ",
        "outputId": "cd1c8d09-6d59-4b5d-be6a-fb6993fca75f"
      },
      "source": [
        "'비밀번호 {}' .format(486)"
      ],
      "execution_count": 16,
      "outputs": [
        {
          "output_type": "execute_result",
          "data": {
            "application/vnd.google.colaboratory.intrinsic+json": {
              "type": "string"
            },
            "text/plain": [
              "'비밀번호 486'"
            ]
          },
          "metadata": {
            "tags": []
          },
          "execution_count": 16
        }
      ]
    },
    {
      "cell_type": "code",
      "metadata": {
        "colab": {
          "base_uri": "https://localhost:8080/",
          "height": 35
        },
        "id": "6nPZYy8E3UfJ",
        "outputId": "f86ec0ea-d3e7-472e-aea9-d0bc58b526f8"
      },
      "source": [
        "'원주율? {:.2f}' .format(3.141592)"
      ],
      "execution_count": 17,
      "outputs": [
        {
          "output_type": "execute_result",
          "data": {
            "application/vnd.google.colaboratory.intrinsic+json": {
              "type": "string"
            },
            "text/plain": [
              "'원주율? 3.14'"
            ]
          },
          "metadata": {
            "tags": []
          },
          "execution_count": 17
        }
      ]
    },
    {
      "cell_type": "markdown",
      "metadata": {
        "id": "Ng1h9ilw3dI0"
      },
      "source": [
        "###**f 문자열 포맷팅 (python 3.6 이상만 지원)**"
      ]
    },
    {
      "cell_type": "code",
      "metadata": {
        "colab": {
          "base_uri": "https://localhost:8080/"
        },
        "id": "I_aqT_yY3b8m",
        "outputId": "23a2f46d-95df-414d-975c-ff63161cbd5d"
      },
      "source": [
        "name = '펭수'\n",
        "age = 10\n",
        "print(f'나의 이름은 {name}입니다. 나이는 {age} 살입니다.')"
      ],
      "execution_count": 19,
      "outputs": [
        {
          "output_type": "stream",
          "text": [
            "나의 이름은 펭수입니다. 나이는 10 살입니다.\n"
          ],
          "name": "stdout"
        }
      ]
    },
    {
      "cell_type": "code",
      "metadata": {
        "colab": {
          "base_uri": "https://localhost:8080/"
        },
        "id": "trB-Nu7x35Q9",
        "outputId": "5086f8ad-0f9c-4102-c933-63c79df24cbe"
      },
      "source": [
        "print(f'내년에 저는 {age+1} 살입니다.')"
      ],
      "execution_count": 20,
      "outputs": [
        {
          "output_type": "stream",
          "text": [
            "내년에 저는 11 살입니다.\n"
          ],
          "name": "stdout"
        }
      ]
    },
    {
      "cell_type": "code",
      "metadata": {
        "id": "nClDDKSA4CWK"
      },
      "source": [
        "d = {'name' : '펭수', 'age':10}"
      ],
      "execution_count": 21,
      "outputs": []
    },
    {
      "cell_type": "code",
      "metadata": {
        "colab": {
          "base_uri": "https://localhost:8080/"
        },
        "id": "UE2X5OhV4J-x",
        "outputId": "067244d2-a917-4ebb-cfb5-7c5c5b857738"
      },
      "source": [
        "print(f\"반가워요. 저는 {d['name']}입니다. 저의 나이는 {d['age']} 살입니다.\")"
      ],
      "execution_count": 23,
      "outputs": [
        {
          "output_type": "stream",
          "text": [
            "반가워요. 저는 펭수입니다. 저의 나이는 10 살입니다.\n"
          ],
          "name": "stdout"
        }
      ]
    },
    {
      "cell_type": "markdown",
      "metadata": {
        "id": "cya7Y5eJ4fOF"
      },
      "source": [
        "###**문자열 길이**\n",
        "\n",
        "영문 (alphabet)"
      ]
    },
    {
      "cell_type": "code",
      "metadata": {
        "colab": {
          "base_uri": "https://localhost:8080/"
        },
        "id": "Kk82M7kD4ZFZ",
        "outputId": "4dd3d3af-6095-44d6-8033-2be965a88b16"
      },
      "source": [
        "len('banana')"
      ],
      "execution_count": 24,
      "outputs": [
        {
          "output_type": "execute_result",
          "data": {
            "text/plain": [
              "6"
            ]
          },
          "metadata": {
            "tags": []
          },
          "execution_count": 24
        }
      ]
    },
    {
      "cell_type": "markdown",
      "metadata": {
        "id": "Vv9h4_3k4oeF"
      },
      "source": [
        "**공백**은 길이에 포함됩니다."
      ]
    },
    {
      "cell_type": "code",
      "metadata": {
        "colab": {
          "base_uri": "https://localhost:8080/"
        },
        "id": "asI4BYg14nsL",
        "outputId": "a266a15d-1482-4f94-f9e8-97792d401442"
      },
      "source": [
        "len('banana pen')"
      ],
      "execution_count": 25,
      "outputs": [
        {
          "output_type": "execute_result",
          "data": {
            "text/plain": [
              "10"
            ]
          },
          "metadata": {
            "tags": []
          },
          "execution_count": 25
        }
      ]
    },
    {
      "cell_type": "markdown",
      "metadata": {
        "id": "f23Ai5oO4vAD"
      },
      "source": [
        "###**한글**"
      ]
    },
    {
      "cell_type": "code",
      "metadata": {
        "colab": {
          "base_uri": "https://localhost:8080/"
        },
        "id": "twh14dDL4uND",
        "outputId": "d6859b9b-d2c3-493d-9112-09a0da08d1c0"
      },
      "source": [
        "len('한글')"
      ],
      "execution_count": 26,
      "outputs": [
        {
          "output_type": "execute_result",
          "data": {
            "text/plain": [
              "2"
            ]
          },
          "metadata": {
            "tags": []
          },
          "execution_count": 26
        }
      ]
    },
    {
      "cell_type": "markdown",
      "metadata": {
        "id": "8rbu4KKs4zJ9"
      },
      "source": [
        "**공백**은 길이에 포함됩니다."
      ]
    },
    {
      "cell_type": "code",
      "metadata": {
        "colab": {
          "base_uri": "https://localhost:8080/"
        },
        "id": "97g69sm14yle",
        "outputId": "7652ba30-52e3-46c6-f044-72adf5cbbd52"
      },
      "source": [
        "len('한글 킹왕짱')"
      ],
      "execution_count": 27,
      "outputs": [
        {
          "output_type": "execute_result",
          "data": {
            "text/plain": [
              "6"
            ]
          },
          "metadata": {
            "tags": []
          },
          "execution_count": 27
        }
      ]
    },
    {
      "cell_type": "markdown",
      "metadata": {
        "id": "Iz3twhBE5NvN"
      },
      "source": [
        "###**인덱싱(indexing)**\n",
        "\n",
        "- 문자열에서 한 개의 글자(char)를 조회하기 위해서는 **[]를 활용한 인덱싱으로 조회**할 수 있습니다."
      ]
    },
    {
      "cell_type": "code",
      "metadata": {
        "colab": {
          "base_uri": "https://localhost:8080/",
          "height": 35
        },
        "id": "b7wo3att5LXd",
        "outputId": "6ef135a7-fd3c-4dbc-d7f8-5600bc828000"
      },
      "source": [
        "a = 'Python is my life'\n",
        "a"
      ],
      "execution_count": 29,
      "outputs": [
        {
          "output_type": "execute_result",
          "data": {
            "application/vnd.google.colaboratory.intrinsic+json": {
              "type": "string"
            },
            "text/plain": [
              "'Python is my life'"
            ]
          },
          "metadata": {
            "tags": []
          },
          "execution_count": 29
        }
      ]
    },
    {
      "cell_type": "code",
      "metadata": {
        "colab": {
          "base_uri": "https://localhost:8080/",
          "height": 35
        },
        "id": "dzvI0KIW5TqE",
        "outputId": "63c2356d-f57e-445a-fae4-d76047c3121e"
      },
      "source": [
        "a[0]"
      ],
      "execution_count": 30,
      "outputs": [
        {
          "output_type": "execute_result",
          "data": {
            "application/vnd.google.colaboratory.intrinsic+json": {
              "type": "string"
            },
            "text/plain": [
              "'P'"
            ]
          },
          "metadata": {
            "tags": []
          },
          "execution_count": 30
        }
      ]
    },
    {
      "cell_type": "code",
      "metadata": {
        "colab": {
          "base_uri": "https://localhost:8080/",
          "height": 35
        },
        "id": "bIMzr8Ua5WFV",
        "outputId": "7c13ae6b-82bc-4b12-a265-80ba322b3f9c"
      },
      "source": [
        "a[-2]"
      ],
      "execution_count": 31,
      "outputs": [
        {
          "output_type": "execute_result",
          "data": {
            "application/vnd.google.colaboratory.intrinsic+json": {
              "type": "string"
            },
            "text/plain": [
              "'f'"
            ]
          },
          "metadata": {
            "tags": []
          },
          "execution_count": 31
        }
      ]
    },
    {
      "cell_type": "markdown",
      "metadata": {
        "id": "64SEfAcQ5XrN"
      },
      "source": [
        "###**슬라이싱(Slicing)\n",
        "\n",
        "- 슬라이싱의 활용: [start:stop:step]을 명시하여 부분을 추출할 수 있습니다."
      ]
    },
    {
      "cell_type": "code",
      "metadata": {
        "colab": {
          "base_uri": "https://localhost:8080/",
          "height": 35
        },
        "id": "rfKeAmP35W8-",
        "outputId": "60941f6f-1bff-4a6b-fe7f-25c63cd7019e"
      },
      "source": [
        "a = 'Python is my life'\n",
        "a"
      ],
      "execution_count": 32,
      "outputs": [
        {
          "output_type": "execute_result",
          "data": {
            "application/vnd.google.colaboratory.intrinsic+json": {
              "type": "string"
            },
            "text/plain": [
              "'Python is my life'"
            ]
          },
          "metadata": {
            "tags": []
          },
          "execution_count": 32
        }
      ]
    },
    {
      "cell_type": "code",
      "metadata": {
        "colab": {
          "base_uri": "https://localhost:8080/",
          "height": 35
        },
        "id": "O6Py5qMi5u9s",
        "outputId": "5c0ca225-80d2-4979-9785-5af4c153d770"
      },
      "source": [
        "a[:]"
      ],
      "execution_count": 33,
      "outputs": [
        {
          "output_type": "execute_result",
          "data": {
            "application/vnd.google.colaboratory.intrinsic+json": {
              "type": "string"
            },
            "text/plain": [
              "'Python is my life'"
            ]
          },
          "metadata": {
            "tags": []
          },
          "execution_count": 33
        }
      ]
    },
    {
      "cell_type": "code",
      "metadata": {
        "colab": {
          "base_uri": "https://localhost:8080/",
          "height": 35
        },
        "id": "oeFWCqY_52Kr",
        "outputId": "2a5a34b3-f5cd-426c-e214-8942e2645539"
      },
      "source": [
        "a[:3]"
      ],
      "execution_count": 34,
      "outputs": [
        {
          "output_type": "execute_result",
          "data": {
            "application/vnd.google.colaboratory.intrinsic+json": {
              "type": "string"
            },
            "text/plain": [
              "'Pyt'"
            ]
          },
          "metadata": {
            "tags": []
          },
          "execution_count": 34
        }
      ]
    },
    {
      "cell_type": "code",
      "metadata": {
        "id": "FG5vjciK54dt"
      },
      "source": [
        "a:[-4]"
      ],
      "execution_count": 36,
      "outputs": []
    },
    {
      "cell_type": "markdown",
      "metadata": {
        "id": "8jd65Ij857p8"
      },
      "source": [
        "[:end]는 처음부터 end 전까지 추출합니다."
      ]
    },
    {
      "cell_type": "code",
      "metadata": {
        "colab": {
          "base_uri": "https://localhost:8080/",
          "height": 35
        },
        "id": "2iR3KU8X55lt",
        "outputId": "3973656e-fec1-4c63-f7f1-eac5b1ced8fe"
      },
      "source": [
        "a[:6]"
      ],
      "execution_count": 37,
      "outputs": [
        {
          "output_type": "execute_result",
          "data": {
            "application/vnd.google.colaboratory.intrinsic+json": {
              "type": "string"
            },
            "text/plain": [
              "'Python'"
            ]
          },
          "metadata": {
            "tags": []
          },
          "execution_count": 37
        }
      ]
    },
    {
      "cell_type": "code",
      "metadata": {
        "colab": {
          "base_uri": "https://localhost:8080/",
          "height": 35
        },
        "id": "xUYfFwoZ6ChR",
        "outputId": "c53798bc-9a93-4087-fe95-fa1b5afb679d"
      },
      "source": [
        "a[:-3]"
      ],
      "execution_count": 38,
      "outputs": [
        {
          "output_type": "execute_result",
          "data": {
            "application/vnd.google.colaboratory.intrinsic+json": {
              "type": "string"
            },
            "text/plain": [
              "'Python is my l'"
            ]
          },
          "metadata": {
            "tags": []
          },
          "execution_count": 38
        }
      ]
    },
    {
      "cell_type": "markdown",
      "metadata": {
        "id": "6CoSXydU6EWL"
      },
      "source": [
        "[start:end]는 start부터 end 전까지 추출합니다."
      ]
    },
    {
      "cell_type": "code",
      "metadata": {
        "colab": {
          "base_uri": "https://localhost:8080/",
          "height": 35
        },
        "id": "hLuMudeh6Duv",
        "outputId": "264a3fd3-df10-4b28-c8cf-ea4f68947101"
      },
      "source": [
        "a[3:6]"
      ],
      "execution_count": 39,
      "outputs": [
        {
          "output_type": "execute_result",
          "data": {
            "application/vnd.google.colaboratory.intrinsic+json": {
              "type": "string"
            },
            "text/plain": [
              "'hon'"
            ]
          },
          "metadata": {
            "tags": []
          },
          "execution_count": 39
        }
      ]
    },
    {
      "cell_type": "markdown",
      "metadata": {
        "id": "d0Y0djGQ6OBF"
      },
      "source": [
        "[start:stop:step]에서 step 지정시 step만큼 건너 뛰면서 추출합니다."
      ]
    },
    {
      "cell_type": "code",
      "metadata": {
        "colab": {
          "base_uri": "https://localhost:8080/",
          "height": 35
        },
        "id": "hqbbE3x66MjB",
        "outputId": "88126082-f969-4130-c795-f18d893759bc"
      },
      "source": [
        "a[::2]"
      ],
      "execution_count": 40,
      "outputs": [
        {
          "output_type": "execute_result",
          "data": {
            "application/vnd.google.colaboratory.intrinsic+json": {
              "type": "string"
            },
            "text/plain": [
              "'Pto sm ie'"
            ]
          },
          "metadata": {
            "tags": []
          },
          "execution_count": 40
        }
      ]
    },
    {
      "cell_type": "markdown",
      "metadata": {
        "id": "YoiDhJV06e8j"
      },
      "source": [
        "역순으로 출력하기 위해서는 step을 -1로 지정합니다."
      ]
    },
    {
      "cell_type": "code",
      "metadata": {
        "colab": {
          "base_uri": "https://localhost:8080/",
          "height": 35
        },
        "id": "joGiDv0e6eOm",
        "outputId": "abff2a72-420b-4281-8445-2849975293a1"
      },
      "source": [
        "a[::-1]"
      ],
      "execution_count": 41,
      "outputs": [
        {
          "output_type": "execute_result",
          "data": {
            "application/vnd.google.colaboratory.intrinsic+json": {
              "type": "string"
            },
            "text/plain": [
              "'efil ym si nohtyP'"
            ]
          },
          "metadata": {
            "tags": []
          },
          "execution_count": 41
        }
      ]
    },
    {
      "cell_type": "markdown",
      "metadata": {
        "id": "ze2NXmch6mPU"
      },
      "source": [
        "###**불변(immutable)**\n",
        "- 문자열은 index를 통해 값을 수정 및 변경이 불가합니다.\n",
        "- 하지만 메서드(method)로 변경할 수 있습니다."
      ]
    },
    {
      "cell_type": "code",
      "metadata": {
        "id": "OkbqNGmo6lgU"
      },
      "source": [
        "a = 'Python is my life'"
      ],
      "execution_count": 42,
      "outputs": []
    },
    {
      "cell_type": "code",
      "metadata": {
        "colab": {
          "base_uri": "https://localhost:8080/",
          "height": 172
        },
        "id": "30ixij_H68c0",
        "outputId": "5d90a6c9-4c69-4d90-c19e-c6af082413e5"
      },
      "source": [
        "a[2] = 'Y'"
      ],
      "execution_count": 43,
      "outputs": [
        {
          "output_type": "error",
          "ename": "TypeError",
          "evalue": "ignored",
          "traceback": [
            "\u001b[0;31m---------------------------------------------------------------------------\u001b[0m",
            "\u001b[0;31mTypeError\u001b[0m                                 Traceback (most recent call last)",
            "\u001b[0;32m<ipython-input-43-f2db0e8f1888>\u001b[0m in \u001b[0;36m<module>\u001b[0;34m()\u001b[0m\n\u001b[0;32m----> 1\u001b[0;31m \u001b[0ma\u001b[0m\u001b[0;34m[\u001b[0m\u001b[0;36m2\u001b[0m\u001b[0;34m]\u001b[0m \u001b[0;34m=\u001b[0m \u001b[0;34m'Y'\u001b[0m\u001b[0;34m\u001b[0m\u001b[0;34m\u001b[0m\u001b[0m\n\u001b[0m",
            "\u001b[0;31mTypeError\u001b[0m: 'str' object does not support item assignment"
          ]
        }
      ]
    },
    {
      "cell_type": "code",
      "metadata": {
        "colab": {
          "base_uri": "https://localhost:8080/",
          "height": 172
        },
        "id": "S4A4-_B76-_6",
        "outputId": "a52a6998-a2e5-45a3-e42f-825b8a4dd4ca"
      },
      "source": [
        "del a[2]"
      ],
      "execution_count": 44,
      "outputs": [
        {
          "output_type": "error",
          "ename": "TypeError",
          "evalue": "ignored",
          "traceback": [
            "\u001b[0;31m---------------------------------------------------------------------------\u001b[0m",
            "\u001b[0;31mTypeError\u001b[0m                                 Traceback (most recent call last)",
            "\u001b[0;32m<ipython-input-44-734682c6a06c>\u001b[0m in \u001b[0;36m<module>\u001b[0;34m()\u001b[0m\n\u001b[0;32m----> 1\u001b[0;31m \u001b[0;32mdel\u001b[0m \u001b[0ma\u001b[0m\u001b[0;34m[\u001b[0m\u001b[0;36m2\u001b[0m\u001b[0;34m]\u001b[0m\u001b[0;34m\u001b[0m\u001b[0;34m\u001b[0m\u001b[0m\n\u001b[0m",
            "\u001b[0;31mTypeError\u001b[0m: 'str' object doesn't support item deletion"
          ]
        }
      ]
    },
    {
      "cell_type": "markdown",
      "metadata": {
        "id": "PPaco0g27BOm"
      },
      "source": [
        "###**문자열의 덧셈과 곱셈**\n",
        "\n",
        "**연결: 문자열의 덧셈**\n",
        "덧셈은 문자열을 연결합니다."
      ]
    },
    {
      "cell_type": "code",
      "metadata": {
        "id": "mG_XWWp57Ats"
      },
      "source": [
        "a = '반갑습니다!'\n",
        "b = '웰컴 투 파이썬'"
      ],
      "execution_count": 45,
      "outputs": []
    },
    {
      "cell_type": "code",
      "metadata": {
        "colab": {
          "base_uri": "https://localhost:8080/",
          "height": 35
        },
        "id": "Iwr_OfBn7os-",
        "outputId": "0d5bd413-6fcd-454d-d46b-11a727543b9b"
      },
      "source": [
        "a + b"
      ],
      "execution_count": 46,
      "outputs": [
        {
          "output_type": "execute_result",
          "data": {
            "application/vnd.google.colaboratory.intrinsic+json": {
              "type": "string"
            },
            "text/plain": [
              "'반갑습니다!웰컴 투 파이썬'"
            ]
          },
          "metadata": {
            "tags": []
          },
          "execution_count": 46
        }
      ]
    },
    {
      "cell_type": "code",
      "metadata": {
        "colab": {
          "base_uri": "https://localhost:8080/",
          "height": 35
        },
        "id": "Mc8Hsxyh7qv4",
        "outputId": "86c9cd7c-bb09-462a-d3bb-708445db6fa8"
      },
      "source": [
        "a + '???'"
      ],
      "execution_count": 47,
      "outputs": [
        {
          "output_type": "execute_result",
          "data": {
            "application/vnd.google.colaboratory.intrinsic+json": {
              "type": "string"
            },
            "text/plain": [
              "'반갑습니다!???'"
            ]
          },
          "metadata": {
            "tags": []
          },
          "execution_count": 47
        }
      ]
    },
    {
      "cell_type": "code",
      "metadata": {
        "colab": {
          "base_uri": "https://localhost:8080/",
          "height": 35
        },
        "id": "dJkYEiVW7soY",
        "outputId": "53e26f51-2c6e-42f0-f0ee-136997951052"
      },
      "source": [
        "'hello' + ', world'"
      ],
      "execution_count": 48,
      "outputs": [
        {
          "output_type": "execute_result",
          "data": {
            "application/vnd.google.colaboratory.intrinsic+json": {
              "type": "string"
            },
            "text/plain": [
              "'hello, world'"
            ]
          },
          "metadata": {
            "tags": []
          },
          "execution_count": 48
        }
      ]
    },
    {
      "cell_type": "markdown",
      "metadata": {
        "id": "Uzm3TqGv7xvT"
      },
      "source": [
        "###**복제: 문자열의 곱셈**\n",
        "\n",
        "문자열을 곱한 숫자 만큼 반복하여 생성합니다."
      ]
    },
    {
      "cell_type": "code",
      "metadata": {
        "colab": {
          "base_uri": "https://localhost:8080/",
          "height": 35
        },
        "id": "myX2vvJe7wxr",
        "outputId": "e5d6c63e-66b7-4826-fa75-8eda6ee02f16"
      },
      "source": [
        "a * 2"
      ],
      "execution_count": 49,
      "outputs": [
        {
          "output_type": "execute_result",
          "data": {
            "application/vnd.google.colaboratory.intrinsic+json": {
              "type": "string"
            },
            "text/plain": [
              "'반갑습니다!반갑습니다!'"
            ]
          },
          "metadata": {
            "tags": []
          },
          "execution_count": 49
        }
      ]
    },
    {
      "cell_type": "code",
      "metadata": {
        "colab": {
          "base_uri": "https://localhost:8080/"
        },
        "id": "X4DJPT3777Q7",
        "outputId": "310f48ac-cc4f-4485-902a-14bf4beefcf5"
      },
      "source": [
        "print('abc ' *5)\n",
        "print('===' * 7)"
      ],
      "execution_count": 51,
      "outputs": [
        {
          "output_type": "stream",
          "text": [
            "abc abc abc abc abc \n",
            "=====================\n"
          ],
          "name": "stdout"
        }
      ]
    },
    {
      "cell_type": "markdown",
      "metadata": {
        "id": "75dvQ7tD9Dg7"
      },
      "source": [
        "###**문자열의 list,set**\n",
        "\n",
        "**리스트(list)**\n",
        "\n",
        "- 문자열을 리스트(list)로 타입 변환이 가능합니다.\n",
        "- 타입 변환시 한 글자를 요소로 갖는 리스트가 생성됩니다."
      ]
    },
    {
      "cell_type": "code",
      "metadata": {
        "colab": {
          "base_uri": "https://localhost:8080/"
        },
        "id": "9K3tYEEV9Bh9",
        "outputId": "83721cbd-8750-4bac-ffdf-8c21020df8b5"
      },
      "source": [
        "list('ABCDE')"
      ],
      "execution_count": 53,
      "outputs": [
        {
          "output_type": "execute_result",
          "data": {
            "text/plain": [
              "['A', 'B', 'C', 'D', 'E']"
            ]
          },
          "metadata": {
            "tags": []
          },
          "execution_count": 53
        }
      ]
    },
    {
      "cell_type": "markdown",
      "metadata": {
        "id": "IBqMBFVH9JF-"
      },
      "source": [
        "중복이 제거된 리스트로 생성하기 위해서는 list로 다시 타입 변환합니다."
      ]
    },
    {
      "cell_type": "code",
      "metadata": {
        "colab": {
          "base_uri": "https://localhost:8080/"
        },
        "id": "2Q1HoGKG9IH9",
        "outputId": "b5b9fdd5-3ca7-4bdb-9d2d-8d0c0064b3db"
      },
      "source": [
        "list(set('AAABBBCCC'))"
      ],
      "execution_count": 54,
      "outputs": [
        {
          "output_type": "execute_result",
          "data": {
            "text/plain": [
              "['C', 'A', 'B']"
            ]
          },
          "metadata": {
            "tags": []
          },
          "execution_count": 54
        }
      ]
    },
    {
      "cell_type": "markdown",
      "metadata": {
        "id": "841cgMGI9Uqg"
      },
      "source": [
        "###**문자열(텍스트)을 다루는 다양한 기능, 메서드(method)**\n",
        "문자열만 가지고 있는 **고유의 편한 기능**들이 있습니다.\n",
        "\n",
        "우리는 이들 중 몇 가지를 배워 앞으로 유용하게 활용할 예정입니다."
      ]
    },
    {
      "cell_type": "markdown",
      "metadata": {
        "id": "u4JIl3-Y9dAj"
      },
      "source": [
        "###**split() : 분리**\n",
        "- split은 문장을 특정 규칙에 의해 쪼개 주는 기능을 합니다.\n",
        "- 분리한 결과는 list 형식으로 값을 return 받습니다."
      ]
    },
    {
      "cell_type": "code",
      "metadata": {
        "id": "zuAS9_zj9TUG"
      },
      "source": [
        "a = 'This is a pen'"
      ],
      "execution_count": 55,
      "outputs": []
    },
    {
      "cell_type": "markdown",
      "metadata": {
        "id": "rYraD-SL9oSp"
      },
      "source": [
        "기본 값으로 **공백**이 지정되어 있습니다. 즉, 공백을 기준으로 분리하여 리스트로 반환합니다."
      ]
    },
    {
      "cell_type": "code",
      "metadata": {
        "colab": {
          "base_uri": "https://localhost:8080/"
        },
        "id": "o7flr0EU9k3W",
        "outputId": "5cd890a5-ecf9-43d7-ef64-9c9ddd8c65bc"
      },
      "source": [
        "a.split()"
      ],
      "execution_count": 56,
      "outputs": [
        {
          "output_type": "execute_result",
          "data": {
            "text/plain": [
              "['This', 'is', 'a', 'pen']"
            ]
          },
          "metadata": {
            "tags": []
          },
          "execution_count": 56
        }
      ]
    },
    {
      "cell_type": "markdown",
      "metadata": {
        "id": "iFjR86WH9rwU"
      },
      "source": [
        "기본 값인 **공백**에서 **특정 문자**로 지정할 수 있습니다."
      ]
    },
    {
      "cell_type": "code",
      "metadata": {
        "id": "BiyF_gmn9m7c"
      },
      "source": [
        "a = 'This-is-a-pen'"
      ],
      "execution_count": 57,
      "outputs": []
    },
    {
      "cell_type": "code",
      "metadata": {
        "colab": {
          "base_uri": "https://localhost:8080/"
        },
        "id": "Tc8i4nG_9zVT",
        "outputId": "eec07124-fc9c-4b09-d02c-0067e3b2be69"
      },
      "source": [
        "a.split('-')"
      ],
      "execution_count": 58,
      "outputs": [
        {
          "output_type": "execute_result",
          "data": {
            "text/plain": [
              "['This', 'is', 'a', 'pen']"
            ]
          },
          "metadata": {
            "tags": []
          },
          "execution_count": 58
        }
      ]
    },
    {
      "cell_type": "code",
      "metadata": {
        "colab": {
          "base_uri": "https://localhost:8080/"
        },
        "id": "fV2qRNIO91_e",
        "outputId": "332f72dd-7099-4c58-a1f5-9a8cf8ab425c"
      },
      "source": [
        "aa = a.split('-')\n",
        "aa"
      ],
      "execution_count": 59,
      "outputs": [
        {
          "output_type": "execute_result",
          "data": {
            "text/plain": [
              "['This', 'is', 'a', 'pen']"
            ]
          },
          "metadata": {
            "tags": []
          },
          "execution_count": 59
        }
      ]
    },
    {
      "cell_type": "markdown",
      "metadata": {
        "id": "hE68houp96RA"
      },
      "source": [
        "aa에 반환된 리스트를 대입 후 index로 값을 조회할 수 있습니다."
      ]
    },
    {
      "cell_type": "code",
      "metadata": {
        "colab": {
          "base_uri": "https://localhost:8080/",
          "height": 35
        },
        "id": "kX04ayZ29-vM",
        "outputId": "7537ab6f-b3fc-42f2-9e26-20287ed17f6c"
      },
      "source": [
        "aa[0]"
      ],
      "execution_count": 61,
      "outputs": [
        {
          "output_type": "execute_result",
          "data": {
            "application/vnd.google.colaboratory.intrinsic+json": {
              "type": "string"
            },
            "text/plain": [
              "'This'"
            ]
          },
          "metadata": {
            "tags": []
          },
          "execution_count": 61
        }
      ]
    },
    {
      "cell_type": "code",
      "metadata": {
        "colab": {
          "base_uri": "https://localhost:8080/",
          "height": 35
        },
        "id": "nSksLnlS95pg",
        "outputId": "f31d4d74-5e37-4685-f2fa-09a3e86a7593"
      },
      "source": [
        "aa[2]"
      ],
      "execution_count": 60,
      "outputs": [
        {
          "output_type": "execute_result",
          "data": {
            "application/vnd.google.colaboratory.intrinsic+json": {
              "type": "string"
            },
            "text/plain": [
              "'a'"
            ]
          },
          "metadata": {
            "tags": []
          },
          "execution_count": 60
        }
      ]
    },
    {
      "cell_type": "code",
      "metadata": {
        "colab": {
          "base_uri": "https://localhost:8080/",
          "height": 35
        },
        "id": "L4KgL9dK99cq",
        "outputId": "fa22d482-7918-46a0-8fdf-a00ca919ebad"
      },
      "source": [
        "aa[0] + aa[2]"
      ],
      "execution_count": 62,
      "outputs": [
        {
          "output_type": "execute_result",
          "data": {
            "application/vnd.google.colaboratory.intrinsic+json": {
              "type": "string"
            },
            "text/plain": [
              "'Thisa'"
            ]
          },
          "metadata": {
            "tags": []
          },
          "execution_count": 62
        }
      ]
    },
    {
      "cell_type": "markdown",
      "metadata": {
        "id": "nX5JINV8-Dfa"
      },
      "source": [
        "**한글**도 동일하게 적용됩니다."
      ]
    },
    {
      "cell_type": "code",
      "metadata": {
        "id": "goxyMSiY-CWP"
      },
      "source": [
        "a = '한글은 어떻게 될까요?'"
      ],
      "execution_count": 64,
      "outputs": []
    },
    {
      "cell_type": "code",
      "metadata": {
        "colab": {
          "base_uri": "https://localhost:8080/"
        },
        "id": "3JBbT4FL-K0N",
        "outputId": "e920dca0-596f-4693-bd19-4dede23cf750"
      },
      "source": [
        "a.split()"
      ],
      "execution_count": 65,
      "outputs": [
        {
          "output_type": "execute_result",
          "data": {
            "text/plain": [
              "['한글은', '어떻게', '될까요?']"
            ]
          },
          "metadata": {
            "tags": []
          },
          "execution_count": 65
        }
      ]
    },
    {
      "cell_type": "markdown",
      "metadata": {
        "id": "B7JDiuyt-Obe"
      },
      "source": [
        "###**join() : 합치기**\n",
        "- 결합하고자 하는 문자에 .join() 안에 리스트를 지정하여 결합할 수 있습니다."
      ]
    },
    {
      "cell_type": "code",
      "metadata": {
        "colab": {
          "base_uri": "https://localhost:8080/",
          "height": 35
        },
        "id": "A3dRZrYm-Mz1",
        "outputId": "845e2d61-8d58-4814-d466-6edd1bb31339"
      },
      "source": [
        "'-'.join(['010',  '1234', '5678'])"
      ],
      "execution_count": 66,
      "outputs": [
        {
          "output_type": "execute_result",
          "data": {
            "application/vnd.google.colaboratory.intrinsic+json": {
              "type": "string"
            },
            "text/plain": [
              "'010-1234-5678'"
            ]
          },
          "metadata": {
            "tags": []
          },
          "execution_count": 66
        }
      ]
    },
    {
      "cell_type": "code",
      "metadata": {
        "colab": {
          "base_uri": "https://localhost:8080/",
          "height": 35
        },
        "id": "32TnBTkE-Ujy",
        "outputId": "40c9c02b-e19a-489a-96e2-409feb373498"
      },
      "source": [
        "'-'.join('ABCDE')"
      ],
      "execution_count": 67,
      "outputs": [
        {
          "output_type": "execute_result",
          "data": {
            "application/vnd.google.colaboratory.intrinsic+json": {
              "type": "string"
            },
            "text/plain": [
              "'A-B-C-D-E'"
            ]
          },
          "metadata": {
            "tags": []
          },
          "execution_count": 67
        }
      ]
    },
    {
      "cell_type": "markdown",
      "metadata": {
        "id": "bCsqUYQK-XfV"
      },
      "source": [
        "###**lower(), upper() : 소문자 / 대문자로 만들기**"
      ]
    },
    {
      "cell_type": "code",
      "metadata": {
        "id": "87P24nZ2-WIO"
      },
      "source": [
        "a = 'My name is Teddy'"
      ],
      "execution_count": 68,
      "outputs": []
    },
    {
      "cell_type": "markdown",
      "metadata": {
        "id": "ly5BSfm1-dqe"
      },
      "source": [
        "소문자로 변경"
      ]
    },
    {
      "cell_type": "code",
      "metadata": {
        "colab": {
          "base_uri": "https://localhost:8080/",
          "height": 35
        },
        "id": "VvT8yqd6-b-l",
        "outputId": "50e7cbdc-1bfc-4d37-b036-516005f7a5c5"
      },
      "source": [
        "a.lower()"
      ],
      "execution_count": 69,
      "outputs": [
        {
          "output_type": "execute_result",
          "data": {
            "application/vnd.google.colaboratory.intrinsic+json": {
              "type": "string"
            },
            "text/plain": [
              "'my name is teddy'"
            ]
          },
          "metadata": {
            "tags": []
          },
          "execution_count": 69
        }
      ]
    },
    {
      "cell_type": "markdown",
      "metadata": {
        "id": "TDRt9WKB-gsd"
      },
      "source": [
        "대문자로 변경"
      ]
    },
    {
      "cell_type": "code",
      "metadata": {
        "colab": {
          "base_uri": "https://localhost:8080/",
          "height": 35
        },
        "id": "Y3WlvnFe-dF9",
        "outputId": "bdb43fee-c4bc-4fd7-98e6-9d365bfe1324"
      },
      "source": [
        "a.upper()"
      ],
      "execution_count": 70,
      "outputs": [
        {
          "output_type": "execute_result",
          "data": {
            "application/vnd.google.colaboratory.intrinsic+json": {
              "type": "string"
            },
            "text/plain": [
              "'MY NAME IS TEDDY'"
            ]
          },
          "metadata": {
            "tags": []
          },
          "execution_count": 70
        }
      ]
    },
    {
      "cell_type": "markdown",
      "metadata": {
        "id": "cEKgp7jw-l-i"
      },
      "source": [
        "한글에는 대소문자 구분이 없습니다."
      ]
    },
    {
      "cell_type": "code",
      "metadata": {
        "id": "u7f2oaog-kwk"
      },
      "source": [
        "a = '한글엔 대소문자가 없어요ㅠ'"
      ],
      "execution_count": 71,
      "outputs": []
    },
    {
      "cell_type": "code",
      "metadata": {
        "colab": {
          "base_uri": "https://localhost:8080/",
          "height": 35
        },
        "id": "Y22w1lEI-oVF",
        "outputId": "32114ae2-4e7d-445a-a608-bd760ecba289"
      },
      "source": [
        "a.lower()"
      ],
      "execution_count": 72,
      "outputs": [
        {
          "output_type": "execute_result",
          "data": {
            "application/vnd.google.colaboratory.intrinsic+json": {
              "type": "string"
            },
            "text/plain": [
              "'한글엔 대소문자가 없어요ㅠ'"
            ]
          },
          "metadata": {
            "tags": []
          },
          "execution_count": 72
        }
      ]
    },
    {
      "cell_type": "code",
      "metadata": {
        "colab": {
          "base_uri": "https://localhost:8080/",
          "height": 35
        },
        "id": "He4sC6qC-qLC",
        "outputId": "37743cde-accd-4106-fee7-3cb02f37c5f8"
      },
      "source": [
        "a.upper()"
      ],
      "execution_count": 73,
      "outputs": [
        {
          "output_type": "execute_result",
          "data": {
            "application/vnd.google.colaboratory.intrinsic+json": {
              "type": "string"
            },
            "text/plain": [
              "'한글엔 대소문자가 없어요ㅠ'"
            ]
          },
          "metadata": {
            "tags": []
          },
          "execution_count": 73
        }
      ]
    },
    {
      "cell_type": "markdown",
      "metadata": {
        "id": "zHosvUre-sbT"
      },
      "source": [
        "###**startswith, endswith**\n",
        "시작과, 끝이 맞는지 결과를 bool로 반환합니다."
      ]
    },
    {
      "cell_type": "code",
      "metadata": {
        "id": "5hcioHoE-rig"
      },
      "source": [
        "a = '01-sample.png'"
      ],
      "execution_count": 74,
      "outputs": []
    },
    {
      "cell_type": "markdown",
      "metadata": {
        "id": "mAH6_hgX-078"
      },
      "source": [
        "###**startswith() : 시작하는**\n",
        "- 지정한 문자열로 시작하면 True, 그렇지 않다면 False를 반환합니다."
      ]
    },
    {
      "cell_type": "code",
      "metadata": {
        "colab": {
          "base_uri": "https://localhost:8080/"
        },
        "id": "kYC3E3kR-zRZ",
        "outputId": "da6518a8-5aa9-4ec9-9a66-268c28cd2004"
      },
      "source": [
        "a.startswith('01')"
      ],
      "execution_count": 75,
      "outputs": [
        {
          "output_type": "execute_result",
          "data": {
            "text/plain": [
              "True"
            ]
          },
          "metadata": {
            "tags": []
          },
          "execution_count": 75
        }
      ]
    },
    {
      "cell_type": "code",
      "metadata": {
        "colab": {
          "base_uri": "https://localhost:8080/"
        },
        "id": "FsS6zpdt-5kI",
        "outputId": "64c2fee5-9085-4464-af64-e091719516af"
      },
      "source": [
        "a.startswith('02')"
      ],
      "execution_count": 76,
      "outputs": [
        {
          "output_type": "execute_result",
          "data": {
            "text/plain": [
              "False"
            ]
          },
          "metadata": {
            "tags": []
          },
          "execution_count": 76
        }
      ]
    },
    {
      "cell_type": "markdown",
      "metadata": {
        "id": "4d_6hd3z-8De"
      },
      "source": [
        "###**startwith(): 시작하는**\n",
        "- 지정한 문자열로 시작하면 True, 그렇지 않다면 False를 반환합니다."
      ]
    },
    {
      "cell_type": "code",
      "metadata": {
        "colab": {
          "base_uri": "https://localhost:8080/"
        },
        "id": "dcdAgLZj-6-b",
        "outputId": "e1aa0fe2-480d-4ecb-e53d-a035450c4e80"
      },
      "source": [
        "a.startswith('01')"
      ],
      "execution_count": 77,
      "outputs": [
        {
          "output_type": "execute_result",
          "data": {
            "text/plain": [
              "True"
            ]
          },
          "metadata": {
            "tags": []
          },
          "execution_count": 77
        }
      ]
    },
    {
      "cell_type": "code",
      "metadata": {
        "colab": {
          "base_uri": "https://localhost:8080/"
        },
        "id": "j1tc7TYP_NAj",
        "outputId": "a52f445c-9622-4179-e41e-9f44b209b8e5"
      },
      "source": [
        "a.startswith('02')"
      ],
      "execution_count": 78,
      "outputs": [
        {
          "output_type": "execute_result",
          "data": {
            "text/plain": [
              "False"
            ]
          },
          "metadata": {
            "tags": []
          },
          "execution_count": 78
        }
      ]
    },
    {
      "cell_type": "markdown",
      "metadata": {
        "id": "zZx3yTMx_Pjo"
      },
      "source": [
        "###**endswith() : 끝나는**\n",
        "- 지정한 문자열로 끝나면 True, 그렇지 않다면 False를 반환합니다."
      ]
    },
    {
      "cell_type": "code",
      "metadata": {
        "colab": {
          "base_uri": "https://localhost:8080/"
        },
        "id": "JiqfvQKk_O4N",
        "outputId": "c324a0e9-65c9-4fbd-e793-974ec15d2891"
      },
      "source": [
        "a.endswith('.png')"
      ],
      "execution_count": 79,
      "outputs": [
        {
          "output_type": "execute_result",
          "data": {
            "text/plain": [
              "True"
            ]
          },
          "metadata": {
            "tags": []
          },
          "execution_count": 79
        }
      ]
    },
    {
      "cell_type": "code",
      "metadata": {
        "colab": {
          "base_uri": "https://localhost:8080/"
        },
        "id": "4r1epSzA_Uds",
        "outputId": "bf284863-416c-48c4-a25b-65ce72b4db75"
      },
      "source": [
        "a.endswith('.jpg')"
      ],
      "execution_count": 80,
      "outputs": [
        {
          "output_type": "execute_result",
          "data": {
            "text/plain": [
              "False"
            ]
          },
          "metadata": {
            "tags": []
          },
          "execution_count": 80
        }
      ]
    },
    {
      "cell_type": "markdown",
      "metadata": {
        "id": "xsQmSrgl_XiC"
      },
      "source": [
        "###**replace() : 문자열 바꾸기**\n",
        "- 문자열에 replace(바꿀 대상, 바꾸려는 문자열) 지정하여 문자열을 변경합니다.\n",
        "- 결과는 복사본이 만들어져 반환됩니다."
      ]
    },
    {
      "cell_type": "code",
      "metadata": {
        "id": "rH0u2u4Q_b4X"
      },
      "source": [
        "a = '01-sample.png'"
      ],
      "execution_count": 81,
      "outputs": []
    },
    {
      "cell_type": "code",
      "metadata": {
        "colab": {
          "base_uri": "https://localhost:8080/",
          "height": 35
        },
        "id": "8jj8AA9f_fTu",
        "outputId": "5c3c5a8d-ad35-49e4-cacf-781f8d6e6608"
      },
      "source": [
        "a.replace('.png', '.jpg')"
      ],
      "execution_count": 82,
      "outputs": [
        {
          "output_type": "execute_result",
          "data": {
            "application/vnd.google.colaboratory.intrinsic+json": {
              "type": "string"
            },
            "text/plain": [
              "'01-sample.jpg'"
            ]
          },
          "metadata": {
            "tags": []
          },
          "execution_count": 82
        }
      ]
    },
    {
      "cell_type": "markdown",
      "metadata": {
        "id": "H3AHiIBP_iFU"
      },
      "source": [
        "반환값은 복사본이며 원본에 **변경사항이 바로 적용되지 않습니다.**"
      ]
    },
    {
      "cell_type": "code",
      "metadata": {
        "colab": {
          "base_uri": "https://localhost:8080/",
          "height": 35
        },
        "id": "7DN1tRMV_g6J",
        "outputId": "7b21dc10-6866-463c-9daf-06b031a3c2e1"
      },
      "source": [
        "a"
      ],
      "execution_count": 83,
      "outputs": [
        {
          "output_type": "execute_result",
          "data": {
            "application/vnd.google.colaboratory.intrinsic+json": {
              "type": "string"
            },
            "text/plain": [
              "'01-sample.png'"
            ]
          },
          "metadata": {
            "tags": []
          },
          "execution_count": 83
        }
      ]
    },
    {
      "cell_type": "code",
      "metadata": {
        "id": "-gbVvOBp_nDT"
      },
      "source": [
        "new_a = a.replace('.png', '.jpg')"
      ],
      "execution_count": 84,
      "outputs": []
    },
    {
      "cell_type": "code",
      "metadata": {
        "colab": {
          "base_uri": "https://localhost:8080/"
        },
        "id": "hdPdwGbo_o0P",
        "outputId": "5c6f47eb-6336-4673-a7d6-dff40500edf3"
      },
      "source": [
        "print(new_a)"
      ],
      "execution_count": 89,
      "outputs": [
        {
          "output_type": "stream",
          "text": [
            "01-sample.jpg\n"
          ],
          "name": "stdout"
        }
      ]
    },
    {
      "cell_type": "markdown",
      "metadata": {
        "id": "VFHwpha-_rhQ"
      },
      "source": [
        "###**불필요한 공백 제거**"
      ]
    },
    {
      "cell_type": "code",
      "metadata": {
        "colab": {
          "base_uri": "https://localhost:8080/",
          "height": 136
        },
        "id": "LDYZt3fX_qK7",
        "outputId": "fc630fcb-9a88-43e6-a7a4-8e84b76cb766"
      },
      "source": [
        "a = '    01-sample.png"
      ],
      "execution_count": 91,
      "outputs": [
        {
          "output_type": "error",
          "ename": "SyntaxError",
          "evalue": "ignored",
          "traceback": [
            "\u001b[0;36m  File \u001b[0;32m\"<ipython-input-91-78c11fecb931>\"\u001b[0;36m, line \u001b[0;32m1\u001b[0m\n\u001b[0;31m    a = '01-sample.png\u001b[0m\n\u001b[0m                      ^\u001b[0m\n\u001b[0;31mSyntaxError\u001b[0m\u001b[0;31m:\u001b[0m EOL while scanning string literal\n"
          ]
        }
      ]
    },
    {
      "cell_type": "code",
      "metadata": {
        "colab": {
          "base_uri": "https://localhost:8080/"
        },
        "id": "kCmp9Z0H_wgS",
        "outputId": "04120cd5-507e-4bbf-9059-9d3d5879dc9a"
      },
      "source": [
        "print(a)"
      ],
      "execution_count": 92,
      "outputs": [
        {
          "output_type": "stream",
          "text": [
            "01-sample.png\n"
          ],
          "name": "stdout"
        }
      ]
    },
    {
      "cell_type": "markdown",
      "metadata": {
        "id": "EEAu2nu8__Y5"
      },
      "source": [
        "\n",
        "**strip은 불필요한 공백을 제거**해 줍니다."
      ]
    },
    {
      "cell_type": "markdown",
      "metadata": {
        "id": "HWL6aLrSAGlr"
      },
      "source": [
        "###**lstrip() : 왼쪽 공백 제거**"
      ]
    },
    {
      "cell_type": "code",
      "metadata": {
        "colab": {
          "base_uri": "https://localhost:8080/",
          "height": 35
        },
        "id": "iuekPjr2ABde",
        "outputId": "515227b4-47e8-4e9d-984d-5fc6e3b7d8a5"
      },
      "source": [
        "a.lstrip()"
      ],
      "execution_count": 94,
      "outputs": [
        {
          "output_type": "execute_result",
          "data": {
            "application/vnd.google.colaboratory.intrinsic+json": {
              "type": "string"
            },
            "text/plain": [
              "'01-sample.png'"
            ]
          },
          "metadata": {
            "tags": []
          },
          "execution_count": 94
        }
      ]
    },
    {
      "cell_type": "markdown",
      "metadata": {
        "id": "VhaPLxWZAJZA"
      },
      "source": [
        "###**rstrip() : 오른쪽 공백 제거**"
      ]
    },
    {
      "cell_type": "code",
      "metadata": {
        "colab": {
          "base_uri": "https://localhost:8080/",
          "height": 35
        },
        "id": "V0HpzXEJAEuc",
        "outputId": "a5b6dc22-5344-4fe6-eb67-6e5572295723"
      },
      "source": [
        "a.rstrip()"
      ],
      "execution_count": 95,
      "outputs": [
        {
          "output_type": "execute_result",
          "data": {
            "application/vnd.google.colaboratory.intrinsic+json": {
              "type": "string"
            },
            "text/plain": [
              "'01-sample.png'"
            ]
          },
          "metadata": {
            "tags": []
          },
          "execution_count": 95
        }
      ]
    },
    {
      "cell_type": "markdown",
      "metadata": {
        "id": "kl8TCjK9APDZ"
      },
      "source": [
        "###**strip() : 양쪽 공백 제거**"
      ]
    },
    {
      "cell_type": "code",
      "metadata": {
        "colab": {
          "base_uri": "https://localhost:8080/",
          "height": 35
        },
        "id": "b3ECzXYVANjp",
        "outputId": "022a7c5c-49ed-4bda-ea2e-687089053555"
      },
      "source": [
        "a.strip()"
      ],
      "execution_count": 96,
      "outputs": [
        {
          "output_type": "execute_result",
          "data": {
            "application/vnd.google.colaboratory.intrinsic+json": {
              "type": "string"
            },
            "text/plain": [
              "'01-sample.png'"
            ]
          },
          "metadata": {
            "tags": []
          },
          "execution_count": 96
        }
      ]
    }
  ]
}