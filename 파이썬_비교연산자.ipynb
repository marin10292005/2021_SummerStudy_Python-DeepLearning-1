{
  "nbformat": 4,
  "nbformat_minor": 0,
  "metadata": {
    "colab": {
      "name": "파이썬-비교연산자",
      "provenance": [],
      "authorship_tag": "ABX9TyPMHQkBId4282CU2Y6u2FGn",
      "include_colab_link": true
    },
    "kernelspec": {
      "name": "python3",
      "display_name": "Python 3"
    },
    "language_info": {
      "name": "python"
    }
  },
  "cells": [
    {
      "cell_type": "markdown",
      "metadata": {
        "id": "view-in-github",
        "colab_type": "text"
      },
      "source": [
        "<a href=\"https://colab.research.google.com/github/marin10292005/2021_SummerStudy_Python-DeepLearning-1/blob/main/%ED%8C%8C%EC%9D%B4%EC%8D%AC_%EB%B9%84%EA%B5%90%EC%97%B0%EC%82%B0%EC%9E%90.ipynb\" target=\"_parent\"><img src=\"https://colab.research.google.com/assets/colab-badge.svg\" alt=\"Open In Colab\"/></a>"
      ]
    },
    {
      "cell_type": "markdown",
      "metadata": {
        "id": "cXYLp3eSkrC0"
      },
      "source": [
        "##**비교연산자**\n",
        "비교 연산자는 주로 대소비교를 할 때 사용합니다.\n",
        "##**대소비교**\n",
        "- `>`: 크다\n",
        "- `>=`: 크거나 같다\n",
        "- <: 작다\n",
        "- `<=`:작거나 같다"
      ]
    },
    {
      "cell_type": "code",
      "metadata": {
        "colab": {
          "base_uri": "https://localhost:8080/"
        },
        "id": "Wy-Qrk1-BAko",
        "outputId": "c80d9315-0514-4c32-f50b-2da5f1a4f8ad"
      },
      "source": [
        "1 > 2"
      ],
      "execution_count": null,
      "outputs": [
        {
          "output_type": "execute_result",
          "data": {
            "text/plain": [
              "False"
            ]
          },
          "metadata": {
            "tags": []
          },
          "execution_count": 1
        }
      ]
    },
    {
      "cell_type": "code",
      "metadata": {
        "colab": {
          "base_uri": "https://localhost:8080/"
        },
        "id": "etTgyAbVBDAy",
        "outputId": "9724564c-628a-4dcf-ae16-c6931612d890"
      },
      "source": [
        "10 >= 10"
      ],
      "execution_count": null,
      "outputs": [
        {
          "output_type": "execute_result",
          "data": {
            "text/plain": [
              "True"
            ]
          },
          "metadata": {
            "tags": []
          },
          "execution_count": 2
        }
      ]
    },
    {
      "cell_type": "code",
      "metadata": {
        "colab": {
          "base_uri": "https://localhost:8080/"
        },
        "id": "m6m9GYSrBJyp",
        "outputId": "4e8b9bb2-40a8-409a-d7ea-aa50352ecd20"
      },
      "source": [
        "8 <= 7"
      ],
      "execution_count": null,
      "outputs": [
        {
          "output_type": "execute_result",
          "data": {
            "text/plain": [
              "False"
            ]
          },
          "metadata": {
            "tags": []
          },
          "execution_count": 3
        }
      ]
    },
    {
      "cell_type": "markdown",
      "metadata": {
        "id": "NkFDThPWBMsJ"
      },
      "source": [
        "##**같다와 같지 않다**\n",
        "** ==: 같음을 비교\n",
        "- =는 대입 연산자 입니다.\n",
        "- 코딩에서는 = 이 대입 연산자로 사용되기 때문에 ==을 사용하고 있습니다."
      ]
    },
    {
      "cell_type": "code",
      "metadata": {
        "colab": {
          "base_uri": "https://localhost:8080/"
        },
        "id": "mvk5Uq_nBL8B",
        "outputId": "157b17b3-fa52-4391-929d-5ac484879814"
      },
      "source": [
        "2 == 2"
      ],
      "execution_count": null,
      "outputs": [
        {
          "output_type": "execute_result",
          "data": {
            "text/plain": [
              "True"
            ]
          },
          "metadata": {
            "tags": []
          },
          "execution_count": 6
        }
      ]
    },
    {
      "cell_type": "code",
      "metadata": {
        "colab": {
          "base_uri": "https://localhost:8080/"
        },
        "id": "lC00CdnjBcVZ",
        "outputId": "4ecdb3c5-d2be-4397-a912-932f7eabea44"
      },
      "source": [
        "2 == 3"
      ],
      "execution_count": null,
      "outputs": [
        {
          "output_type": "execute_result",
          "data": {
            "text/plain": [
              "False"
            ]
          },
          "metadata": {
            "tags": []
          },
          "execution_count": 7
        }
      ]
    },
    {
      "cell_type": "markdown",
      "metadata": {
        "id": "6WNS4LNIBqEW"
      },
      "source": [
        "**!= 같지 않음을 비교**"
      ]
    },
    {
      "cell_type": "code",
      "metadata": {
        "colab": {
          "base_uri": "https://localhost:8080/"
        },
        "id": "VCdaG9ggBd2Y",
        "outputId": "5cc5e981-9b2b-42a4-d8e1-d3ac1625c638"
      },
      "source": [
        "2 != 2"
      ],
      "execution_count": null,
      "outputs": [
        {
          "output_type": "execute_result",
          "data": {
            "text/plain": [
              "False"
            ]
          },
          "metadata": {
            "tags": []
          },
          "execution_count": 8
        }
      ]
    },
    {
      "cell_type": "code",
      "metadata": {
        "colab": {
          "base_uri": "https://localhost:8080/"
        },
        "id": "Cvj3Jub0Bvh7",
        "outputId": "4348372e-75c6-42c8-e245-6ff805cc5258"
      },
      "source": [
        "1 != 2"
      ],
      "execution_count": null,
      "outputs": [
        {
          "output_type": "execute_result",
          "data": {
            "text/plain": [
              "True"
            ]
          },
          "metadata": {
            "tags": []
          },
          "execution_count": 9
        }
      ]
    },
    {
      "cell_type": "code",
      "metadata": {
        "colab": {
          "base_uri": "https://localhost:8080/"
        },
        "id": "hmUsBOpfBxDL",
        "outputId": "ac73e25d-0f0c-41a3-88e3-beeb976fdc3c"
      },
      "source": [
        "'나' !='너'"
      ],
      "execution_count": null,
      "outputs": [
        {
          "output_type": "execute_result",
          "data": {
            "text/plain": [
              "True"
            ]
          },
          "metadata": {
            "tags": []
          },
          "execution_count": 10
        }
      ]
    },
    {
      "cell_type": "code",
      "metadata": {
        "colab": {
          "base_uri": "https://localhost:8080/"
        },
        "id": "EhUQ2f6hBzsd",
        "outputId": "147273b0-0129-48e5-aba6-2bcbca80f200"
      },
      "source": [
        "'나' != '나'"
      ],
      "execution_count": null,
      "outputs": [
        {
          "output_type": "execute_result",
          "data": {
            "text/plain": [
              "False"
            ]
          },
          "metadata": {
            "tags": []
          },
          "execution_count": 11
        }
      ]
    },
    {
      "cell_type": "markdown",
      "metadata": {
        "id": "3jur2CjIB8B7"
      },
      "source": [
        "##**조건문**\n",
        "조건문이란 무엇일까요?\n",
        "\n",
        "주어진 조건이 **참**인 경우 그 다음 내가 정한 규칙(로직)을 실행하는 개념입니다.\n",
        "\n",
        "**if** \n",
        "- if는 어떤 조건이 성립한다면~ 이라는 뜻입니다.\n",
        "- if 구문 끝에는 반드시 콜론(:)을 잊지 말아 주세요"
      ]
    },
    {
      "cell_type": "code",
      "metadata": {
        "colab": {
          "base_uri": "https://localhost:8080/"
        },
        "id": "X1yiDMd6B4GT",
        "outputId": "a7cb74ee-0f8a-4ce2-eb5d-1c74ec68a955"
      },
      "source": [
        "if 5>3:\n",
        "  print(\"참\")"
      ],
      "execution_count": null,
      "outputs": [
        {
          "output_type": "stream",
          "text": [
            "참\n"
          ],
          "name": "stdout"
        }
      ]
    },
    {
      "cell_type": "code",
      "metadata": {
        "colab": {
          "base_uri": "https://localhost:8080/"
        },
        "id": "Hvu5hCrPCfvM",
        "outputId": "2671d42d-6587-4411-f70b-32e96b817501"
      },
      "source": [
        "if 5<3:\n",
        "  print('참')\n",
        "  print('참')\n",
        "  print('참')\n",
        "  print('참')\n",
        "\n",
        "print('끝')"
      ],
      "execution_count": null,
      "outputs": [
        {
          "output_type": "stream",
          "text": [
            "끝\n"
          ],
          "name": "stdout"
        }
      ]
    },
    {
      "cell_type": "code",
      "metadata": {
        "colab": {
          "base_uri": "https://localhost:8080/"
        },
        "id": "hFQNjurGC0z7",
        "outputId": "0cf5fd61-2edb-4051-bee4-87528306b8e0"
      },
      "source": [
        "if 5>3:\n",
        "  print('참')"
      ],
      "execution_count": null,
      "outputs": [
        {
          "output_type": "stream",
          "text": [
            "참\n"
          ],
          "name": "stdout"
        }
      ]
    },
    {
      "cell_type": "markdown",
      "metadata": {
        "id": "h3V3HHFQC6TZ"
      },
      "source": [
        "**else**\n",
        "\n",
        "else는 if 조건 후에 따라오며, if가 아닌 경우에 실행 됩니다."
      ]
    },
    {
      "cell_type": "code",
      "metadata": {
        "colab": {
          "base_uri": "https://localhost:8080/"
        },
        "id": "5I6gZS_MC5fT",
        "outputId": "b8f06c77-0724-4d38-81d5-11ae695f9c73"
      },
      "source": [
        "if 5<3:\n",
        "  print('if 구문 실행')\n",
        "else:\n",
        "  print('else 구문 실행')"
      ],
      "execution_count": null,
      "outputs": [
        {
          "output_type": "stream",
          "text": [
            "else 구문 실행\n"
          ],
          "name": "stdout"
        }
      ]
    },
    {
      "cell_type": "code",
      "metadata": {
        "colab": {
          "base_uri": "https://localhost:8080/",
          "height": 136
        },
        "id": "M4AwdIYqDjEX",
        "outputId": "15ada1c4-6ae8-44ad-ce4d-c04ca297049c"
      },
      "source": [
        "else:\n",
        "  print('else 구문 실행')"
      ],
      "execution_count": null,
      "outputs": [
        {
          "output_type": "error",
          "ename": "SyntaxError",
          "evalue": "ignored",
          "traceback": [
            "\u001b[0;36m  File \u001b[0;32m\"<ipython-input-16-f940342b0f6e>\"\u001b[0;36m, line \u001b[0;32m1\u001b[0m\n\u001b[0;31m    else:\u001b[0m\n\u001b[0m       ^\u001b[0m\n\u001b[0;31mSyntaxError\u001b[0m\u001b[0;31m:\u001b[0m invalid syntax\n"
          ]
        }
      ]
    },
    {
      "cell_type": "markdown",
      "metadata": {
        "id": "2dDYhiGoDrBZ"
      },
      "source": [
        "**elif**\n",
        "\n",
        "elif 구문은 3가지 이상 분기(조건)의 동작을 수행할 때 사용합니다."
      ]
    },
    {
      "cell_type": "code",
      "metadata": {
        "colab": {
          "base_uri": "https://localhost:8080/"
        },
        "id": "DwYFY5A3Dnub",
        "outputId": "9c91fcdd-8403-4c68-dabb-f52da3ae2984"
      },
      "source": [
        "if 3>5:\n",
        "  print('if구문')\n",
        "elif 3<4:\n",
        "  print('elif구문')\n",
        "else:\n",
        "    print('이것도 저것도 아니다')"
      ],
      "execution_count": null,
      "outputs": [
        {
          "output_type": "stream",
          "text": [
            "elif구문\n"
          ],
          "name": "stdout"
        }
      ]
    },
    {
      "cell_type": "markdown",
      "metadata": {
        "id": "vOKvr6nsEZC5"
      },
      "source": [
        "그럼, **elif 구문이 참인 여러 구문**을 나열 했을 때는 어떻게 될까요?\n",
        "\n",
        "한 번 고민해보고 실행하세요"
      ]
    },
    {
      "cell_type": "code",
      "metadata": {
        "colab": {
          "base_uri": "https://localhost:8080/"
        },
        "id": "9Y54WaxhECNH",
        "outputId": "028b007b-b44a-4159-ae47-46af09d7218d"
      },
      "source": [
        "if 3>5:\n",
        "  print('if구문')\n",
        "elif 3>4:\n",
        "  print('elif 1 구문')\n",
        "elif 3>5:\n",
        "  print('elif 2 구문')\n",
        "elif 3<6:\n",
        "  print('elif 3 구문')"
      ],
      "execution_count": null,
      "outputs": [
        {
          "output_type": "stream",
          "text": [
            "elif 3 구문\n"
          ],
          "name": "stdout"
        }
      ]
    },
    {
      "cell_type": "markdown",
      "metadata": {
        "id": "YFaxJVT5E_Ro"
      },
      "source": [
        "**1 이나 0은 참 이나 거짓을 표현하기도 합니다**"
      ]
    },
    {
      "cell_type": "code",
      "metadata": {
        "colab": {
          "base_uri": "https://localhost:8080/"
        },
        "id": "a_lxkERyE-J2",
        "outputId": "c3170258-5b42-4a24-fb40-b8a949f973aa"
      },
      "source": [
        "if 1:\n",
        "  print('참')\n",
        "else:\n",
        "  print('거짓')"
      ],
      "execution_count": null,
      "outputs": [
        {
          "output_type": "stream",
          "text": [
            "참\n"
          ],
          "name": "stdout"
        }
      ]
    },
    {
      "cell_type": "code",
      "metadata": {
        "colab": {
          "base_uri": "https://localhost:8080/"
        },
        "id": "mB5qZtd5FLcB",
        "outputId": "3ce2e241-7194-45d2-b184-a3cd15b3d377"
      },
      "source": [
        "if 0:\n",
        "  print('참')\n",
        "else:\n",
        "    print('거짓')"
      ],
      "execution_count": null,
      "outputs": [
        {
          "output_type": "stream",
          "text": [
            "거짓\n"
          ],
          "name": "stdout"
        }
      ]
    },
    {
      "cell_type": "markdown",
      "metadata": {
        "id": "ehT4CEklFXhX"
      },
      "source": [
        "**삼항연산자**\n",
        "(문법)**(참인 값) if 조건 else (거짓인경우 값)**\n",
        "\n",
        "삼항연산자는 파이썬 문법에서 흔히 볼 수 있는 연산자이며,조건에 대한 참인 경우의 값 그렇지 않은 경우의 값을 뒤에 지정합니다."
      ]
    },
    {
      "cell_type": "code",
      "metadata": {
        "colab": {
          "base_uri": "https://localhost:8080/",
          "height": 35
        },
        "id": "5saC8McKFT8J",
        "outputId": "98f3d36e-30db-4b97-bb9b-53130e60cd3e"
      },
      "source": [
        "age = 20\n",
        "\"30세 이상입니다\""
      ],
      "execution_count": null,
      "outputs": [
        {
          "output_type": "execute_result",
          "data": {
            "application/vnd.google.colaboratory.intrinsic+json": {
              "type": "string"
            },
            "text/plain": [
              "'30세 이상입니다'"
            ]
          },
          "metadata": {
            "tags": []
          },
          "execution_count": 25
        }
      ]
    },
    {
      "cell_type": "markdown",
      "metadata": {
        "id": "3OuugLUBGE6H"
      },
      "source": [
        "**논리 연산자 (and,or,not)**\n",
        "\n",
        "and나 or 조건은 두 가지 이상 조건을 다룰 때 활용합니다.\n",
        "\n",
        "**and**\n",
        "- and조건은 **모두 만족**할때 참으로 인식합니다."
      ]
    },
    {
      "cell_type": "code",
      "metadata": {
        "colab": {
          "base_uri": "https://localhost:8080/"
        },
        "id": "wtr7eCY4F46n",
        "outputId": "7db9d977-11ee-48ff-9590-c8828d12245c"
      },
      "source": [
        "True and True and True"
      ],
      "execution_count": null,
      "outputs": [
        {
          "output_type": "execute_result",
          "data": {
            "text/plain": [
              "True"
            ]
          },
          "metadata": {
            "tags": []
          },
          "execution_count": 27
        }
      ]
    },
    {
      "cell_type": "markdown",
      "metadata": {
        "id": "uoaLWy-aG6Ln"
      },
      "source": [
        "**or**\n",
        "- or 조건은 조건 중 **하나라도 만족**할 때 참으로 인식합니다"
      ]
    },
    {
      "cell_type": "markdown",
      "metadata": {
        "id": "_YnYHPhdHOdX"
      },
      "source": [
        "**not**\n",
        "- bool 값을 반전시킵니다"
      ]
    },
    {
      "cell_type": "code",
      "metadata": {
        "colab": {
          "base_uri": "https://localhost:8080/"
        },
        "id": "XWy8c999HT7O",
        "outputId": "cfb98c7a-f147-48e3-ee60-7c236a066218"
      },
      "source": [
        "not True"
      ],
      "execution_count": null,
      "outputs": [
        {
          "output_type": "execute_result",
          "data": {
            "text/plain": [
              "False"
            ]
          },
          "metadata": {
            "tags": []
          },
          "execution_count": 28
        }
      ]
    },
    {
      "cell_type": "code",
      "metadata": {
        "colab": {
          "base_uri": "https://localhost:8080/"
        },
        "id": "n_0sKsZtHWzl",
        "outputId": "424cfaf3-7281-4a80-c74c-4d677ceca0ca"
      },
      "source": [
        "not False"
      ],
      "execution_count": null,
      "outputs": [
        {
          "output_type": "execute_result",
          "data": {
            "text/plain": [
              "True"
            ]
          },
          "metadata": {
            "tags": []
          },
          "execution_count": 29
        }
      ]
    },
    {
      "cell_type": "code",
      "metadata": {
        "id": "rn75yN-PHYv2"
      },
      "source": [
        "if not True:\n",
        "  print('not True')"
      ],
      "execution_count": null,
      "outputs": []
    },
    {
      "cell_type": "code",
      "metadata": {
        "colab": {
          "base_uri": "https://localhost:8080/"
        },
        "id": "yW68OKDuHauW",
        "outputId": "e560b90d-da78-46e3-ec6e-00e99440fb10"
      },
      "source": [
        "if not False:\n",
        "  print('not False')"
      ],
      "execution_count": null,
      "outputs": [
        {
          "output_type": "stream",
          "text": [
            "not False\n"
          ],
          "name": "stdout"
        }
      ]
    }
  ]
}