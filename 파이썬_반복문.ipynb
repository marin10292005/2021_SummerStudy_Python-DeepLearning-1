{
  "nbformat": 4,
  "nbformat_minor": 0,
  "metadata": {
    "colab": {
      "name": "파이썬-반복문",
      "provenance": [],
      "collapsed_sections": [],
      "authorship_tag": "ABX9TyOmpwPwFc+eDbZBO0ZlGShG",
      "include_colab_link": true
    },
    "kernelspec": {
      "name": "python3",
      "display_name": "Python 3"
    },
    "language_info": {
      "name": "python"
    }
  },
  "cells": [
    {
      "cell_type": "markdown",
      "metadata": {
        "id": "view-in-github",
        "colab_type": "text"
      },
      "source": [
        "<a href=\"https://colab.research.google.com/github/marin10292005/2021_SummerStudy_Python-DeepLearning-1/blob/main/%ED%8C%8C%EC%9D%B4%EC%8D%AC_%EB%B0%98%EB%B3%B5%EB%AC%B8.ipynb\" target=\"_parent\"><img src=\"https://colab.research.google.com/assets/colab-badge.svg\" alt=\"Open In Colab\"/></a>"
      ]
    },
    {
      "cell_type": "markdown",
      "metadata": {
        "id": "ufdPrwFeYT6i"
      },
      "source": [
        "###**반복문**\n",
        "- 1회 이상 반복해서 수행하는 일을 반복문으로 통해 쉽게 해결할 수 있습니다.\n",
        "- 반드시 list, tuple, dict, set 등 집합에 대한 순회를 돌며 일을 처리할 때 많이 쓰입니다.\n",
        "- list, tuple, dict, set, 문자열까지 모두 순회가능한(iterable) 객체 입니다.\n",
        "- 순회가능한(iterable) 객체는 반복문을 통해 순회할 수 있습니다."
      ]
    },
    {
      "cell_type": "code",
      "metadata": {
        "id": "Fp3_UuvPWacH"
      },
      "source": [
        "mylist = [1, 2, 3, 4, 5, 6, 7, 8, 9, 10]"
      ],
      "execution_count": 1,
      "outputs": []
    },
    {
      "cell_type": "markdown",
      "metadata": {
        "id": "YX3zj_ovWcAx"
      },
      "source": [
        "mylist에 들어 있는 모든 값들을 출력하려고 한다면?"
      ]
    },
    {
      "cell_type": "code",
      "metadata": {
        "colab": {
          "base_uri": "https://localhost:8080/"
        },
        "id": "LcSCByGFWgcB",
        "outputId": "83ab033b-f2c6-480e-803d-4c5f143d0254"
      },
      "source": [
        "print(mylist[0])\n",
        "print(mylist[1])\n",
        "print(mylist[2])\n",
        "print('...')\n",
        "print(mylist[8])\n",
        "print(mylist[9])"
      ],
      "execution_count": 2,
      "outputs": [
        {
          "output_type": "stream",
          "text": [
            "1\n",
            "2\n",
            "3\n",
            "...\n",
            "9\n",
            "10\n"
          ],
          "name": "stdout"
        }
      ]
    },
    {
      "cell_type": "markdown",
      "metadata": {
        "id": "SRjz3LHZWg62"
      },
      "source": [
        "노가다를 획기적으로 줄여주는 방법!!!"
      ]
    },
    {
      "cell_type": "markdown",
      "metadata": {
        "id": "LqfOBGYQWji9"
      },
      "source": [
        "###**for 와 in 구문 (반복문)**\n",
        "[기본 문법]\n",
        "for 하나씩 꺼내올 때 변수 in [꺼내올 집합]:\n",
        "(indent)\n",
        "\n",
        "- list, tuple, set, dictionary, 문자열 형태 모두 가능\n",
        "- range와 결합하여 사용 가능"
      ]
    },
    {
      "cell_type": "markdown",
      "metadata": {
        "id": "ZDfZ4CQDWsMw"
      },
      "source": [
        "###**리스트(list)**"
      ]
    },
    {
      "cell_type": "code",
      "metadata": {
        "id": "Gz9-yKA0Wxsj"
      },
      "source": [
        "mylist = [1, 2, 3, 4, 5]"
      ],
      "execution_count": 5,
      "outputs": []
    },
    {
      "cell_type": "code",
      "metadata": {
        "colab": {
          "base_uri": "https://localhost:8080/"
        },
        "id": "9vA919wQW0OW",
        "outputId": "2d1fea3f-e51b-4840-cfee-bd00b6ee785c"
      },
      "source": [
        "for i in mylist:\n",
        "    print(i)"
      ],
      "execution_count": 6,
      "outputs": [
        {
          "output_type": "stream",
          "text": [
            "1\n",
            "2\n",
            "3\n",
            "4\n",
            "5\n"
          ],
          "name": "stdout"
        }
      ]
    },
    {
      "cell_type": "markdown",
      "metadata": {
        "id": "4bBuMVgtW1sx"
      },
      "source": [
        "###**튜플(tuple)**"
      ]
    },
    {
      "cell_type": "code",
      "metadata": {
        "colab": {
          "base_uri": "https://localhost:8080/"
        },
        "id": "yWwvdmzSW85i",
        "outputId": "0f1c6432-63b3-4727-b926-824d9ea4227a"
      },
      "source": [
        "for i in (1, 2, 3, 4, 5):\n",
        "    print(i)"
      ],
      "execution_count": 7,
      "outputs": [
        {
          "output_type": "stream",
          "text": [
            "1\n",
            "2\n",
            "3\n",
            "4\n",
            "5\n"
          ],
          "name": "stdout"
        }
      ]
    },
    {
      "cell_type": "markdown",
      "metadata": {
        "id": "l2vbberhW9wu"
      },
      "source": [
        "###**tuple + list**\n",
        "tuple을 전체로 받아주는 경우"
      ]
    },
    {
      "cell_type": "code",
      "metadata": {
        "colab": {
          "base_uri": "https://localhost:8080/"
        },
        "id": "QRhmh7D3XFe3",
        "outputId": "53ebcf50-ead4-4604-c60b-716d518bca61"
      },
      "source": [
        "person = ('제이콥스', 10)\n",
        "print(person)\n",
        "print(person[0])\n",
        "print(person[1])"
      ],
      "execution_count": 8,
      "outputs": [
        {
          "output_type": "stream",
          "text": [
            "('제이콥스', 10)\n",
            "제이콥스\n",
            "10\n"
          ],
          "name": "stdout"
        }
      ]
    },
    {
      "cell_type": "markdown",
      "metadata": {
        "id": "8YMPw6XfXHGQ"
      },
      "source": [
        "tuple의 요소를 개별로 받아주는 경우"
      ]
    },
    {
      "cell_type": "code",
      "metadata": {
        "colab": {
          "base_uri": "https://localhost:8080/"
        },
        "id": "Ylkr5m_qXJsw",
        "outputId": "f27ba26d-da1c-4bfe-822f-5d14fdf2a978"
      },
      "source": [
        "name, age = ('제이콥스', 10)\n",
        "print(name)\n",
        "print(age)"
      ],
      "execution_count": 9,
      "outputs": [
        {
          "output_type": "stream",
          "text": [
            "제이콥스\n",
            "10\n"
          ],
          "name": "stdout"
        }
      ]
    },
    {
      "cell_type": "markdown",
      "metadata": {
        "id": "S1ByFi6QXLY3"
      },
      "source": [
        "반복문에서의 응용"
      ]
    },
    {
      "cell_type": "code",
      "metadata": {
        "colab": {
          "base_uri": "https://localhost:8080/"
        },
        "id": "Qo2yYVqjXNha",
        "outputId": "b9c20699-6a72-4388-ba0c-07d9eab82e20"
      },
      "source": [
        "mytuplelist = [('제이콥스', 10), ('피터', 20), ('타이거', 30)]\n",
        "\n",
        "for mytuple in mytuplelist:\n",
        "    print(mytuple[0], mytuple[1])"
      ],
      "execution_count": 10,
      "outputs": [
        {
          "output_type": "stream",
          "text": [
            "제이콥스 10\n",
            "피터 20\n",
            "타이거 30\n"
          ],
          "name": "stdout"
        }
      ]
    },
    {
      "cell_type": "markdown",
      "metadata": {
        "id": "cS53JCRFXPV6"
      },
      "source": [
        "###**딕셔너리(dictionary)**"
      ]
    },
    {
      "cell_type": "code",
      "metadata": {
        "id": "uJ8SE390lELu"
      },
      "source": [
        "mydict = {'헐크': 50, '아이언맨': 60, '펭수': 70}"
      ],
      "execution_count": 11,
      "outputs": []
    },
    {
      "cell_type": "code",
      "metadata": {
        "colab": {
          "base_uri": "https://localhost:8080/"
        },
        "id": "ayBbcLp6lGhV",
        "outputId": "6b5d38c5-3766-4dad-80de-abc9e834a6a2"
      },
      "source": [
        "for key in mydict.keys():\n",
        "    print(key)"
      ],
      "execution_count": 12,
      "outputs": [
        {
          "output_type": "stream",
          "text": [
            "헐크\n",
            "아이언맨\n",
            "펭수\n"
          ],
          "name": "stdout"
        }
      ]
    },
    {
      "cell_type": "code",
      "metadata": {
        "colab": {
          "base_uri": "https://localhost:8080/"
        },
        "id": "tyhuCtcWlIzF",
        "outputId": "ddaf5c76-4d48-48b3-a522-9c290523ad05"
      },
      "source": [
        "for value in mydict.values():\n",
        "    print(value)"
      ],
      "execution_count": 13,
      "outputs": [
        {
          "output_type": "stream",
          "text": [
            "50\n",
            "60\n",
            "70\n"
          ],
          "name": "stdout"
        }
      ]
    },
    {
      "cell_type": "code",
      "metadata": {
        "colab": {
          "base_uri": "https://localhost:8080/"
        },
        "id": "L8l5C6QBlLLL",
        "outputId": "d13b2356-2471-4d23-86b6-a065051783fb"
      },
      "source": [
        "for name, age in mydict.items():\n",
        "    print(name, age)"
      ],
      "execution_count": 14,
      "outputs": [
        {
          "output_type": "stream",
          "text": [
            "헐크 50\n",
            "아이언맨 60\n",
            "펭수 70\n"
          ],
          "name": "stdout"
        }
      ]
    },
    {
      "cell_type": "markdown",
      "metadata": {
        "id": "h3nGFD1IlPsy"
      },
      "source": [
        "###**문자열(str)**"
      ]
    },
    {
      "cell_type": "code",
      "metadata": {
        "colab": {
          "base_uri": "https://localhost:8080/"
        },
        "id": "-i4HQX-plYtu",
        "outputId": "085e24f0-7729-4bf9-d215-e5f3ef0664d5"
      },
      "source": [
        "for c in \"Hello\":\n",
        "    print(c)"
      ],
      "execution_count": 15,
      "outputs": [
        {
          "output_type": "stream",
          "text": [
            "H\n",
            "e\n",
            "l\n",
            "l\n",
            "o\n"
          ],
          "name": "stdout"
        }
      ]
    },
    {
      "cell_type": "markdown",
      "metadata": {
        "id": "fKYNuCMvlZzb"
      },
      "source": [
        "###**range()**\n",
        "- range() 함수는 별도의 list, tuple 생성 없이 range() 에서 정의한 범위를 반복는데 활용할 수 있습니다.\n",
        "- range(start, stop, step) 형식을 사용합니다.\n",
        "\n",
        "stop:단일 값을 지정하는 경우"
      ]
    },
    {
      "cell_type": "code",
      "metadata": {
        "colab": {
          "base_uri": "https://localhost:8080/"
        },
        "id": "41Ih2ZmUlyia",
        "outputId": "21eabff2-87e8-4c7d-d1cc-00f9d1c5f5b6"
      },
      "source": [
        "for i in range(10):\n",
        "    print(i)"
      ],
      "execution_count": 17,
      "outputs": [
        {
          "output_type": "stream",
          "text": [
            "0\n",
            "1\n",
            "2\n",
            "3\n",
            "4\n",
            "5\n",
            "6\n",
            "7\n",
            "8\n",
            "9\n"
          ],
          "name": "stdout"
        }
      ]
    },
    {
      "cell_type": "markdown",
      "metadata": {
        "id": "nlXU7A_9l3G_"
      },
      "source": [
        "start, stop: 두 개의 값을 지정한 경우"
      ]
    },
    {
      "cell_type": "code",
      "metadata": {
        "colab": {
          "base_uri": "https://localhost:8080/"
        },
        "id": "aJenXqhrmNx1",
        "outputId": "fb8019e9-3944-4e24-b715-4e94cac8c8fc"
      },
      "source": [
        "for i in range(2, 9):\n",
        "    print(i)"
      ],
      "execution_count": 18,
      "outputs": [
        {
          "output_type": "stream",
          "text": [
            "2\n",
            "3\n",
            "4\n",
            "5\n",
            "6\n",
            "7\n",
            "8\n"
          ],
          "name": "stdout"
        }
      ]
    },
    {
      "cell_type": "markdown",
      "metadata": {
        "id": "pInkOqU5myq_"
      },
      "source": [
        "start, stop, step: 세 개의 값을 지정한 경우"
      ]
    },
    {
      "cell_type": "code",
      "metadata": {
        "colab": {
          "base_uri": "https://localhost:8080/"
        },
        "id": "zYotceq3sGSM",
        "outputId": "220f1d3a-1168-4271-aedd-c02f6cd94132"
      },
      "source": [
        "for i in range(1, 10, 2):\n",
        "    print(i)"
      ],
      "execution_count": 19,
      "outputs": [
        {
          "output_type": "stream",
          "text": [
            "1\n",
            "3\n",
            "5\n",
            "7\n",
            "9\n"
          ],
          "name": "stdout"
        }
      ]
    },
    {
      "cell_type": "markdown",
      "metadata": {
        "id": "M1ZbcYOFsH-K"
      },
      "source": [
        "###**반복문의 중첩**"
      ]
    },
    {
      "cell_type": "code",
      "metadata": {
        "colab": {
          "base_uri": "https://localhost:8080/"
        },
        "id": "_SmBsBMKsMUs",
        "outputId": "9e06474c-81a7-4cf2-fff2-b0b93c371792"
      },
      "source": [
        "for i in range(1, 4):\n",
        "    for j in range(1, 4):\n",
        "        print(f'(i={i}) + (j={j}) = {i * j}')\n",
        "    print('===')"
      ],
      "execution_count": 21,
      "outputs": [
        {
          "output_type": "stream",
          "text": [
            "(i=1) + (j=1) = 1\n",
            "(i=1) + (j=2) = 2\n",
            "(i=1) + (j=3) = 3\n",
            "===\n",
            "(i=2) + (j=1) = 2\n",
            "(i=2) + (j=2) = 4\n",
            "(i=2) + (j=3) = 6\n",
            "===\n",
            "(i=3) + (j=1) = 3\n",
            "(i=3) + (j=2) = 6\n",
            "(i=3) + (j=3) = 9\n",
            "===\n"
          ],
          "name": "stdout"
        }
      ]
    },
    {
      "cell_type": "markdown",
      "metadata": {
        "id": "fTBmIJ8gsTUy"
      },
      "source": [
        "###**제어문**\n",
        "**continue**\n",
        "- 반복문 내부에서 continue 구문은 해당 루프(loop)를 건너뛰게 합니다.\n",
        "- continue 라는 구문을 만나면, 반복문에서 continue 아래 작성된 코드는 **실행되지 않고 건너뜁니다.**"
      ]
    },
    {
      "cell_type": "code",
      "metadata": {
        "id": "tWAT6HGDsZeV"
      },
      "source": [
        "mylist = [1, 2, 3, 4, 5, 6, 7, 8, 9, 10]"
      ],
      "execution_count": 24,
      "outputs": []
    },
    {
      "cell_type": "markdown",
      "metadata": {
        "id": "ZPafDAsYse69"
      },
      "source": [
        "반복문과 조건문 그리고 continue를 활용하여 짝수만 출력해 주세요"
      ]
    },
    {
      "cell_type": "code",
      "metadata": {
        "colab": {
          "base_uri": "https://localhost:8080/"
        },
        "id": "0V1vchpDsj99",
        "outputId": "5c2e85db-bf92-4e00-ae96-9140185bdfe6"
      },
      "source": [
        "for i in mylist:\n",
        "    if i % 2 == 1:\n",
        "        continue\n",
        "    print(i)"
      ],
      "execution_count": 25,
      "outputs": [
        {
          "output_type": "stream",
          "text": [
            "2\n",
            "4\n",
            "6\n",
            "8\n",
            "10\n"
          ],
          "name": "stdout"
        }
      ]
    },
    {
      "cell_type": "markdown",
      "metadata": {
        "id": "gq9JEzu3sm01"
      },
      "source": [
        "###**break**\n",
        "- break 구문을 만나면, 반복 루프(loop)는 즉시 종료됩니다."
      ]
    },
    {
      "cell_type": "code",
      "metadata": {
        "id": "BgmU_vk0sstF"
      },
      "source": [
        "mylist = [1, 2, 3, 4, 5, 6, 7, 8, 9, 10]"
      ],
      "execution_count": 26,
      "outputs": []
    },
    {
      "cell_type": "markdown",
      "metadata": {
        "id": "omy3gpm-stib"
      },
      "source": [
        "break를 사용하여 i가 6 이상이면 STOP"
      ]
    },
    {
      "cell_type": "code",
      "metadata": {
        "colab": {
          "base_uri": "https://localhost:8080/"
        },
        "id": "aa6bbCBWswVZ",
        "outputId": "30ac5a80-caad-4f69-daef-783e235176d1"
      },
      "source": [
        "for i in mylist:\n",
        "    if i >= 6:\n",
        "        break\n",
        "    print(i)"
      ],
      "execution_count": 27,
      "outputs": [
        {
          "output_type": "stream",
          "text": [
            "1\n",
            "2\n",
            "3\n",
            "4\n",
            "5\n"
          ],
          "name": "stdout"
        }
      ]
    },
    {
      "cell_type": "markdown",
      "metadata": {
        "id": "vcza0AcSsx3K"
      },
      "source": [
        "###**break, continue 차이**"
      ]
    },
    {
      "cell_type": "code",
      "metadata": {
        "colab": {
          "base_uri": "https://localhost:8080/"
        },
        "id": "CxgenaF4wHRw",
        "outputId": "38d43a2f-62ae-4367-dd48-4501db21ad72"
      },
      "source": [
        "for i in range(10):\n",
        "    if i == 5:\n",
        "        break\n",
        "    print(i)"
      ],
      "execution_count": 29,
      "outputs": [
        {
          "output_type": "stream",
          "text": [
            "0\n",
            "1\n",
            "2\n",
            "3\n",
            "4\n"
          ],
          "name": "stdout"
        }
      ]
    },
    {
      "cell_type": "code",
      "metadata": {
        "colab": {
          "base_uri": "https://localhost:8080/"
        },
        "id": "t-XrQkAKwJzR",
        "outputId": "30fca35b-83b9-4ab3-8067-04a4411ba67c"
      },
      "source": [
        "for i in range(10):\n",
        "    if i == 5:\n",
        "        continue\n",
        "    print(i)"
      ],
      "execution_count": 30,
      "outputs": [
        {
          "output_type": "stream",
          "text": [
            "0\n",
            "1\n",
            "2\n",
            "3\n",
            "4\n",
            "6\n",
            "7\n",
            "8\n",
            "9\n"
          ],
          "name": "stdout"
        }
      ]
    },
    {
      "cell_type": "markdown",
      "metadata": {
        "id": "z4Qb5emzwLuZ"
      },
      "source": [
        "###**While**\n",
        "- while 문은 while문과 함께 정의한 조건이 참이 동안 반복 루프를 수행합니다."
      ]
    },
    {
      "cell_type": "code",
      "metadata": {
        "colab": {
          "base_uri": "https://localhost:8080/"
        },
        "id": "3xwRSbEkwRL7",
        "outputId": "c9f3b93f-1b84-4766-9678-70f66cc4c6c8"
      },
      "source": [
        "count = 5\n",
        "\n",
        "while count > 0:\n",
        "    print(count)\n",
        "    count -= 1"
      ],
      "execution_count": 31,
      "outputs": [
        {
          "output_type": "stream",
          "text": [
            "5\n",
            "4\n",
            "3\n",
            "2\n",
            "1\n"
          ],
          "name": "stdout"
        }
      ]
    },
    {
      "cell_type": "markdown",
      "metadata": {
        "id": "Ba9yYrHwwRnY"
      },
      "source": [
        "많은 사용하는 방법 중 하나는 while True로 지정하여 무한 루프를 생성 후, 탈출 구문 루프 내에서 설정하는 것입니다."
      ]
    },
    {
      "cell_type": "code",
      "metadata": {
        "colab": {
          "base_uri": "https://localhost:8080/"
        },
        "id": "bwBlQ80nwVCQ",
        "outputId": "f50a4562-af87-4401-bde2-121df3f08cf2"
      },
      "source": [
        "count = 1\n",
        "\n",
        "while True:\n",
        "    print(count)\n",
        "    count += 1\n",
        "    # 탈출 구문(break)\n",
        "    if count > 5:\n",
        "        break"
      ],
      "execution_count": 32,
      "outputs": [
        {
          "output_type": "stream",
          "text": [
            "1\n",
            "2\n",
            "3\n",
            "4\n",
            "5\n"
          ],
          "name": "stdout"
        }
      ]
    }
  ]
}